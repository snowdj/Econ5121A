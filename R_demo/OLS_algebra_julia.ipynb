{
 "cells": [
  {
   "cell_type": "markdown",
   "metadata": {},
   "source": [
    "# OLS Regression\n",
    "\n",
    "### Zhentao Shi\n",
    "\n",
    "We demonstrate the OLS estimator and its algebraic properties."
   ]
  },
  {
   "cell_type": "code",
   "execution_count": 3,
   "metadata": {},
   "outputs": [
    {
     "data": {
      "text/plain": [
       "20×1 Array{Float64,2}:\n",
       "  4.4009   \n",
       " -0.574694 \n",
       "  0.323081 \n",
       "  0.340809 \n",
       "  0.543161 \n",
       "  2.88334  \n",
       "  3.33813  \n",
       "  1.23503  \n",
       " -3.79042  \n",
       "  0.0961641\n",
       "  1.39752  \n",
       "  0.0240427\n",
       "  1.37341  \n",
       "  0.315935 \n",
       " -1.5131   \n",
       "  0.122445 \n",
       " -1.24801  \n",
       "  3.78353  \n",
       "  1.12203  \n",
       "  0.471744 "
      ]
     },
     "execution_count": 3,
     "metadata": {},
     "output_type": "execute_result"
    }
   ],
   "source": [
    "## Generating data\n",
    "\n",
    "using Distributions\n",
    "\n",
    "n = 20 # sample size \n",
    "K = 4  # number of paramters\n",
    "\n",
    "b0 = [0.5; 1.0; -1.0; 1] # the true coefficient\n",
    "\n",
    "X = hcat( ones(n,1), rand( Normal(), n, K-1) )  # the regressor matrix\n",
    "e = rand(Normal(), n, 1 ) # the error term\n",
    "\n",
    "Y = X * b0 + e # generate the dependent variable"
   ]
  },
  {
   "cell_type": "markdown",
   "metadata": {},
   "source": [
    "After the data generation, we obtain an $n\\times 1$ vector of $Y$ and an $n\\times K$ vector of $X$. Since the random generator seed is unspecified, the generated random variables are different every time we run the code."
   ]
  },
  {
   "cell_type": "code",
   "execution_count": 4,
   "metadata": {},
   "outputs": [
    {
     "data": {
      "text/plain": [
       "4×1 Array{Float64,2}:\n",
       "  0.573196\n",
       "  1.2254  \n",
       " -0.477072\n",
       "  1.19246 "
      ]
     },
     "execution_count": 4,
     "metadata": {},
     "output_type": "execute_result"
    }
   ],
   "source": [
    "bhat = (X' * X) \\ (X' * Y)"
   ]
  },
  {
   "cell_type": "markdown",
   "metadata": {},
   "source": [
    "Calculate the estimate as $\\hat{\\beta} = (X' X)^{-1} X'Y$."
   ]
  },
  {
   "cell_type": "markdown",
   "metadata": {},
   "source": [
    "The regression residual is defined as $\\hat{e} = Y - X' \\hat{\\beta}$. Verify $X'\\hat{e} = 0$."
   ]
  },
  {
   "cell_type": "code",
   "execution_count": 5,
   "metadata": {},
   "outputs": [
    {
     "name": "stdout",
     "output_type": "stream",
     "text": [
      "[1.11022e-15; -3.88578e-16; -2.72005e-15; -6.07847e-15]\n"
     ]
    }
   ],
   "source": [
    "ehat = Y - X * bhat\n",
    "println( X' * ehat )"
   ]
  },
  {
   "cell_type": "markdown",
   "metadata": {},
   "source": [
    "## Linear Algebraic Properties\n",
    "\n",
    "Define $P_X$ and $M_X$, and show $\\hat{e} = M_X Y = M_X  e$."
   ]
  },
  {
   "cell_type": "code",
   "execution_count": 8,
   "metadata": {},
   "outputs": [
    {
     "data": {
      "text/plain": [
       "20×3 Array{Float64,2}:\n",
       " -0.740503    -0.740503    -0.740503  \n",
       " -0.377045    -0.377045    -0.377045  \n",
       "  0.286604     0.286604     0.286604  \n",
       " -0.737935    -0.737935    -0.737935  \n",
       " -0.266004    -0.266004    -0.266004  \n",
       "  2.47314      2.47314      2.47314   \n",
       "  0.327272     0.327272     0.327272  \n",
       "  0.311446     0.311446     0.311446  \n",
       " -0.579079    -0.579079    -0.579079  \n",
       " -0.409734    -0.409734    -0.409734  \n",
       "  0.723551     0.723551     0.723551  \n",
       " -1.12141     -1.12141     -1.12141   \n",
       " -0.773775    -0.773775    -0.773775  \n",
       "  0.322449     0.322449     0.322449  \n",
       " -0.00879343  -0.00879343  -0.00879343\n",
       "  0.0934853    0.0934853    0.0934853 \n",
       " -0.749232    -0.749232    -0.749232  \n",
       "  1.29249      1.29249      1.29249   \n",
       " -0.290677    -0.290677    -0.290677  \n",
       "  0.223748     0.223748     0.223748  "
      ]
     },
     "execution_count": 8,
     "metadata": {},
     "output_type": "execute_result"
    }
   ],
   "source": [
    "PX = X * inv( X' * X) * X'\n",
    "MX = diagm( ones(n), 0) - PX\n",
    "hcat( ehat, MX * Y, MX * e ) "
   ]
  },
  {
   "cell_type": "markdown",
   "metadata": {},
   "source": [
    "## FWL Theorem"
   ]
  },
  {
   "cell_type": "code",
   "execution_count": 12,
   "metadata": {},
   "outputs": [
    {
     "data": {
      "text/plain": [
       "2×1 Array{Float64,2}:\n",
       " -0.477072\n",
       "  1.19246 "
      ]
     },
     "execution_count": 12,
     "metadata": {},
     "output_type": "execute_result"
    }
   ],
   "source": [
    "X1 = X[:,1:2 ]\n",
    "PX1 = X1 *  inv(X1' * X1) * X1'\n",
    "MX1 = diagm( ones(n), 0 ) - PX1\n",
    "X2 = X[:, 3:4]\n",
    "bhat12 =  ( X2' * MX1 * X2) \\ (X2' * MX1 * Y )"
   ]
  },
  {
   "cell_type": "markdown",
   "metadata": {},
   "source": [
    "$(\\hat{\\beta}_3, \\hat{\\beta}_4)$ is the same as the counterpart in $\\hat{\\beta}$."
   ]
  },
  {
   "cell_type": "code",
   "execution_count": 14,
   "metadata": {},
   "outputs": [
    {
     "data": {
      "text/plain": [
       "20×2 Array{Float64,2}:\n",
       " -0.740503    -0.740503  \n",
       " -0.377045    -0.377045  \n",
       "  0.286604     0.286604  \n",
       " -0.737935    -0.737935  \n",
       " -0.266004    -0.266004  \n",
       "  2.47314      2.47314   \n",
       "  0.327272     0.327272  \n",
       "  0.311446     0.311446  \n",
       " -0.579079    -0.579079  \n",
       " -0.409734    -0.409734  \n",
       "  0.723551     0.723551  \n",
       " -1.12141     -1.12141   \n",
       " -0.773775    -0.773775  \n",
       "  0.322449     0.322449  \n",
       " -0.00879343  -0.00879343\n",
       "  0.0934853    0.0934853 \n",
       " -0.749232    -0.749232  \n",
       "  1.29249      1.29249   \n",
       " -0.290677    -0.290677  \n",
       "  0.223748     0.223748  "
      ]
     },
     "execution_count": 14,
     "metadata": {},
     "output_type": "execute_result"
    }
   ],
   "source": [
    "# the residuls after purging out X1 is the same as that from the full regression\n",
    "ehat12 = MX1 * Y - MX1 * X2 * bhat12 \n",
    "hcat( ehat, ehat12)"
   ]
  }
 ],
 "metadata": {
  "kernelspec": {
   "display_name": "Julia 0.6.4",
   "language": "julia",
   "name": "julia-0.6"
  },
  "language_info": {
   "file_extension": ".jl",
   "mimetype": "application/julia",
   "name": "julia",
   "version": "0.6.4"
  }
 },
 "nbformat": 4,
 "nbformat_minor": 2
}
