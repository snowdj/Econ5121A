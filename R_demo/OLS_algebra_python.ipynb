{
 "cells": [
  {
   "cell_type": "markdown",
   "metadata": {},
   "source": [
    "# OLS Regression\n",
    "\n",
    "### Zhentao Shi\n",
    "\n",
    "This is the first time that I write Python code by myself.\n",
    "\n",
    "We demonstrate the OLS estimator and its algebraic properties."
   ]
  },
  {
   "cell_type": "code",
   "execution_count": 5,
   "metadata": {},
   "outputs": [],
   "source": [
    "## Generating data\n",
    "\n",
    "import numpy as np\n",
    "from scipy import stats\n",
    "\n",
    "n = 20 # sample size \n",
    "K = 3  # number of paramters\n",
    "\n",
    "b0 = np.mat( [[0.5], [1.0], [-1.0], [1.0]] ) # the true coefficient\n",
    "\n",
    "X = np.hstack( ( np.ones( (n,1) ), stats.norm.rvs(  size = (n, K))) )  # the regressor matrix\n",
    "e = stats.norm.rvs( size = (n,1) ) # the error term\n",
    "\n",
    "Y = X @ b0 + e # generate the dependent variable"
   ]
  },
  {
   "cell_type": "markdown",
   "metadata": {},
   "source": [
    "After the data generation, we obtain an $n\\times 1$ vector of $Y$ and an $n\\times K$ vector of $X$. Since the random generator seed is unspecified, the generated random variables are different every time we run the code."
   ]
  },
  {
   "cell_type": "code",
   "execution_count": 6,
   "metadata": {},
   "outputs": [
    {
     "name": "stdout",
     "output_type": "stream",
     "text": [
      "[[ 0.11749363]\n",
      " [ 0.7619638 ]\n",
      " [-1.00237138]\n",
      " [ 0.35044278]]\n"
     ]
    }
   ],
   "source": [
    "bhat = np.linalg.solve( X.T @ X, X.T @ Y)\n",
    "print(bhat)"
   ]
  },
  {
   "cell_type": "markdown",
   "metadata": {},
   "source": [
    "Calculate the estimate as $\\hat{\\beta} = (X' X)^{-1} X'Y$."
   ]
  },
  {
   "cell_type": "markdown",
   "metadata": {},
   "source": [
    "The regression residual is defined as $\\hat{e} = Y - X' \\hat{\\beta}$. Verify $X'\\hat{e} = 0$."
   ]
  },
  {
   "cell_type": "code",
   "execution_count": 10,
   "metadata": {},
   "outputs": [
    {
     "name": "stdout",
     "output_type": "stream",
     "text": [
      "[[ 1.77635684e-15]\n",
      " [-4.44089210e-15]\n",
      " [ 3.33066907e-15]\n",
      " [ 4.44089210e-16]]\n"
     ]
    }
   ],
   "source": [
    "ehat = Y - X @ bhat\n",
    "print( X.T @ ehat )"
   ]
  },
  {
   "cell_type": "markdown",
   "metadata": {},
   "source": [
    "## Linear Algebraic Properties\n",
    "\n",
    "Define $P_X$ and $M_X$, and show $\\hat{e} = M_X Y = M_X  e$."
   ]
  },
  {
   "cell_type": "code",
   "execution_count": 13,
   "metadata": {},
   "outputs": [
    {
     "name": "stdout",
     "output_type": "stream",
     "text": [
      "[[-1.77482351 -1.77482351 -1.77482351]\n",
      " [-0.70161898 -0.70161898 -0.70161898]\n",
      " [ 0.66243152  0.66243152  0.66243152]\n",
      " [ 0.65106129  0.65106129  0.65106129]\n",
      " [ 1.13475278  1.13475278  1.13475278]\n",
      " [ 1.11228791  1.11228791  1.11228791]\n",
      " [-0.66888979 -0.66888979 -0.66888979]\n",
      " [-0.36795563 -0.36795563 -0.36795563]\n",
      " [-0.14861854 -0.14861854 -0.14861854]\n",
      " [-1.06233629 -1.06233629 -1.06233629]\n",
      " [ 0.19773133  0.19773133  0.19773133]\n",
      " [-0.46704015 -0.46704015 -0.46704015]\n",
      " [ 0.56069116  0.56069116  0.56069116]\n",
      " [ 0.33700027  0.33700027  0.33700027]\n",
      " [-1.60557983 -1.60557983 -1.60557983]\n",
      " [-0.69322679 -0.69322679 -0.69322679]\n",
      " [ 0.53439743  0.53439743  0.53439743]\n",
      " [ 0.28791348  0.28791348  0.28791348]\n",
      " [ 0.4938477   0.4938477   0.4938477 ]\n",
      " [ 1.51797465  1.51797465  1.51797465]]\n"
     ]
    }
   ],
   "source": [
    "PX = X @ np.linalg.solve( X.T @ X, X.T )\n",
    "MX = np.diag( np.ones(n) ) - PX\n",
    "print( np.hstack( ( ehat, MX @ Y, MX @ e ) ) )"
   ]
  },
  {
   "cell_type": "markdown",
   "metadata": {},
   "source": [
    "## FWL Theorem"
   ]
  },
  {
   "cell_type": "code",
   "execution_count": 28,
   "metadata": {},
   "outputs": [
    {
     "name": "stdout",
     "output_type": "stream",
     "text": [
      "[[-1.00237138]\n",
      " [ 0.35044278]]\n"
     ]
    }
   ],
   "source": [
    "X1 = X[:,(0,1) ]\n",
    "PX1 = X1 @ np.linalg.solve( X1.T @ X1, X1.T )\n",
    "MX1 = np.diag( np.ones(n) ) - PX1\n",
    "X2 = X[:,(2,3)]\n",
    "bhat12 =  np.linalg.solve( X2.T @ MX1 @ X2, X2.T @ MX1 @ Y )\n",
    "print(bhat12)"
   ]
  },
  {
   "cell_type": "markdown",
   "metadata": {},
   "source": [
    "$(\\hat{\\beta}_3, \\hat{\\beta}_4)$ is the same as the counterpart in $\\hat{\\beta}$."
   ]
  },
  {
   "cell_type": "code",
   "execution_count": 27,
   "metadata": {},
   "outputs": [
    {
     "name": "stdout",
     "output_type": "stream",
     "text": [
      "[[-1.77482351 -1.77482351]\n",
      " [-0.70161898 -0.70161898]\n",
      " [ 0.66243152  0.66243152]\n",
      " [ 0.65106129  0.65106129]\n",
      " [ 1.13475278  1.13475278]\n",
      " [ 1.11228791  1.11228791]\n",
      " [-0.66888979 -0.66888979]\n",
      " [-0.36795563 -0.36795563]\n",
      " [-0.14861854 -0.14861854]\n",
      " [-1.06233629 -1.06233629]\n",
      " [ 0.19773133  0.19773133]\n",
      " [-0.46704015 -0.46704015]\n",
      " [ 0.56069116  0.56069116]\n",
      " [ 0.33700027  0.33700027]\n",
      " [-1.60557983 -1.60557983]\n",
      " [-0.69322679 -0.69322679]\n",
      " [ 0.53439743  0.53439743]\n",
      " [ 0.28791348  0.28791348]\n",
      " [ 0.4938477   0.4938477 ]\n",
      " [ 1.51797465  1.51797465]]\n"
     ]
    }
   ],
   "source": [
    "# the residuls after purging out X1 is the same as that from the full regression\n",
    "ehat12 = MX1 @ Y - MX1 @ X2 @ bhat12 \n",
    "print( np.hstack( (ehat, ehat12)) )"
   ]
  }
 ],
 "metadata": {
  "kernelspec": {
   "display_name": "Python 3",
   "language": "python",
   "name": "python3"
  },
  "language_info": {
   "codemirror_mode": {
    "name": "ipython",
    "version": 3
   },
   "file_extension": ".py",
   "mimetype": "text/x-python",
   "name": "python",
   "nbconvert_exporter": "python",
   "pygments_lexer": "ipython3",
   "version": "3.6.4"
  }
 },
 "nbformat": 4,
 "nbformat_minor": 2
}
