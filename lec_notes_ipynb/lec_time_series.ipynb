{
 "cells": [
  {
   "cell_type": "markdown",
   "metadata": {},
   "source": [
    "Unit Root and Cointegration\n",
    "===========================\n",
    "\n",
    " Unit Root Process \n",
    "-------------------\n",
    "\n",
    "A *covariance stationary* time series satisfies\n",
    "\n",
    "1. $E[y_{t}]$ is a constant; \n",
    "2. $var[y_{t}]$ is a constant; \n",
    "3. $cov[y_{t},y_{s}]$ is a function of $|t-s|$ but not of $t$ or $s$. \n",
    "\n",
    "A time series is\n",
    "*non-stationary* if one of these conditions are violated. \n",
    "\n",
    "Let\n",
    "$\\left(y_{t}\\right)$ be an AR(1)\n",
    "$$y_{t}=\\beta+\\gamma y_{t-1}+u_{t},\\label{AR1}$$ where $(u_{t})$ is a\n",
    "white noise with mean 0 and variance $\\sigma^{2}$. If $|\\gamma|<1$,\n",
    "$E[y_{0}]=\\beta/(1-\\gamma)$ and $var[y_{0}]=\\sigma^{2}/(1-\\gamma^{2})$,\n",
    "then this AR(1) is stationary.[^1] To verify this, we rewrite $y_{t}$ by\n",
    "repeatedly substituting out the lag terms until $y_{0}$.\n",
    "$$y_{t}=\\beta+\\gamma(\\beta+\\gamma y_{t-2}+u_{t-1})+u_{t}=\\cdots=\\gamma^{t}y_{0}+\\beta\\sum_{r=0}^{t-1}\\gamma^{r}+\\sum_{r=0}^{t-1}\\gamma^{r}u_{t-r}$$\n",
    "By the formula for geometric sums,\n",
    "$$E[y_{t}]=\\gamma^{t}\\beta/(1-\\gamma)+\\beta(1-\\gamma^{t})/(1-\\gamma)=\\beta/(1-\\gamma)$$\n",
    "$$var[y_{t}]=\\sigma^{2}\\gamma^{2t}/(1-\\gamma^{2})+\\sigma^{2}(1-\\gamma^{2t})/(1-\\gamma^{2})=\\sigma^{2}/(1-\\gamma^{2}).$$\n",
    "Without loss of generality, for the covariance we can assume $t>s$.\n",
    "$$\\begin{aligned}\n",
    "cov[y_{t},y_{s}] & = & cov\\left[(u_{t}+\\cdots+\\gamma^{t-s}u_{s}+\\cdots+\\gamma^{t-1}u_{1}),(u_{s}+\\cdots+\\gamma^{s-1}u_{1})\\right]+cov(\\gamma^{t}y_{0},\\gamma^{s}y_{0})\\\\\n",
    " & = & \\gamma^{t-s}var[(u_{s}+\\cdots+\\gamma^{s-1}u_{1})]+\\gamma^{t+s}var(y_{0})\\\\\n",
    " & = & \\gamma^{t-s}\\sigma^{2}\\frac{1-\\gamma^{2s}}{1-\\gamma^{2}}+\\gamma^{t+s}\\sigma^{2}/\\left(1-\\gamma^{2}\\right)\\\\\n",
    " & = & \\gamma^{t-s}\\sigma^{2}/(1-\\gamma^{2})\\end{aligned}$$ For general\n",
    "$t$ and $s$, $cov[y_{t},y_{s}]=\\gamma^{|t-s|}\\sigma^{2}/(1-\\gamma^{2})$\n",
    ".\n",
    "\n",
    "AR(1) with $\\gamma=1$ is a *unit root process*. The above formulae no\n",
    "longer apply when $\\gamma=1$. Again, we substitute out the lag terms to\n",
    "obtain\n",
    "$$y_{t}=\\beta+\\gamma y_{t-1}+u_{t}=\\cdots=y_{0}+t\\beta+\\sum_{r=1}^{t}u_{t},$$\n",
    "so that $$\\begin{aligned}\n",
    "E[y_{t}] & = & E[y_{0}]+t\\beta;\\\\\n",
    "var[y_{t}] & = & var[y_{0}]+t\\sigma^{2};\\\\\n",
    "cov[y_{t},y_{s}] & = & var(y_{0})+\\min(t,s)\\sigma^{2}.\\end{aligned}$$\n",
    "The mean, the variance and the covariance vary with $t$ and $s$. Even if\n",
    "$\\beta=0$, the variance increases with $t$. In our R demonstration, we\n",
    "witness very different behavior of a stationary AR and a non-stationary\n",
    "AR.\n",
    "\n",
    "**Code Example**"
   ]
  },
  {
   "cell_type": "code",
   "execution_count": 6,
   "metadata": {},
   "outputs": [
    {
     "data": {
      "image/png": "[encoded data removed]",
      "text/plain": [
       "Plot with title \"time series\""
      ]
     },
     "metadata": {},
     "output_type": "display_data"
    }
   ],
   "source": [
    "AR <- function(a,T){\n",
    "  # a: the AR coefficient\n",
    "  # T: time periods\n",
    "  y <- rep(0, T)\n",
    "  e <- rnorm(T)\n",
    "  for (t in 1:T){\n",
    "    if (t == 1) {\n",
    "      y[t] <- e[t]\n",
    "    } else {\n",
    "      y[t] <- a * y[t-1] + e[t]\n",
    "    }\n",
    "  }\n",
    "  return(y)\n",
    "}\n",
    "\n",
    "# generate a stationary AR(1) and a unit root time series. \n",
    "\n",
    "set.seed(999)\n",
    "stationary <- AR(0.7, 200) # stationary \n",
    "ur <- AR(1, 200) # unit root \n",
    "\n",
    "matplot( cbind(stationary, ur), type = \"l\", ylab = \"\", main = \"time series\" ) "
   ]
  },
  {
   "cell_type": "markdown",
   "metadata": {},
   "source": [
    "Stationary and non-stationary time series have distinctive implications\n",
    "in forecast. For simplicity, we set $\\beta=0$. The $\\tau$-period-ahead\n",
    "conditional forecast mean for the stationary AR(1) is\n",
    "$$E[y_{t+\\tau}|y_{t}]=\\gamma^{\\tau}y_{t}.$$ It exhibits\n",
    "*mean-reverting*the forecast mean conditional on $y_{t}$ converges to\n",
    "the unconditional mean. Here\n",
    "$E[y_{t+\\tau}|y_{t}]\\to0=E\\left[y_{t}\\right]$ as $\\tau\\to\\infty$. In\n",
    "contrast, in the non-stationary AR(1)\n",
    "$$E[y_{t+\\tau}|y_{t}]=y_{t},\\mbox{ for all }\\tau\\in\\mathbb{N}.\\label{eq:martingale}$$\n",
    "The conditional forecast means of all future $y_{t+\\tau}$ are today’s\n",
    "realization $y_{t}$. In the context of the financial market, the\n",
    "*efficient market theory* claims that the present price reflects all the\n",
    "information concerning a stock; therefore the future move cannot be\n",
    "systematically forecast. This theory implies that the stock prices\n",
    "satisfy (\\[eq:martingale\\]).\n",
    "\n",
    "To check whether the real-world time series follow the implication of\n",
    "the efficient market theory, a statistical test was developed under the\n",
    "null hypothesis $H_{0}:\\gamma=1.$ Notice that the standard theory for\n",
    "OLS requires that the data are stationary. Under non-stationarity, the\n",
    "OLS estimator is still consistent for the AR coefficient, but the\n",
    "standard inference breaks down.\n",
    "\n",
    "Instead of working with $\\gamma$, it is common practice that we subtract\n",
    "$y_{t-1}$ on both sides of (\\[AR1\\]) so that\n",
    "$$\\Delta y_{t}=\\beta+\\rho y_{t-1}+u_{t},$$ where\n",
    "$\\Delta y_{t}=y_{t}-y_{t-1}$ and $\\rho=\\gamma-1$. The null hypothesis\n",
    "becomes $H_{0}:\\rho=0$ under this reformulation, for which we can\n",
    "directly read the $t$-ratio reported in statistical software.\n",
    "\n",
    "The test statistic we use is the familiar $t$-ratio\n",
    "$$t=\\frac{\\widehat{\\rho}}{\\mathrm{s.e.}(\\widehat{\\rho})}.$$ In standard\n",
    "OLS theory, this $t$-ratio converges in distribution to a standard\n",
    "normal random variable. In contrast, under the null the $t$-ratio\n",
    "asymptotically follows a *Dicky-Fuller distribution* if $u_{t}$ is a\n",
    "white noise.\n",
    "\n",
    "Given the asymptotic distribution, we can compare the test statistic and\n",
    "the desirable critical value for hypothesis testing. *Dicky-Fuller test*\n",
    "considers $$H_{0}:\\rho=0;\\ \\ \\ \\ \\ H_{1}:\\rho<0.$$ The critical value is\n",
    "-2.88 for the 5% significance-level test with a drift[^2]. This value is\n",
    "much smaller than -1.64, the 5% quantile of a standard normal\n",
    "distribution.\n",
    "\n",
    "In order to use the Dicky-Fuller distribution as the $t$-ratio’s\n",
    "asymptotic distribution, the dynamics of $\\left(y_{t}\\right)$ must be\n",
    "modeled such that $\\left(u_{t}\\right)$ is a white noise. When the\n",
    "specification of AR(1) is insufficient for this purpose, we can add a\n",
    "few lag terms into the regression\n",
    "$$\\Delta y_{t}=\\beta+\\rho y_{t-1}+\\theta_{1}\\Delta y_{t-1}+\\cdots+\\theta_{p}\\Delta y_{t-p}+u_{t}$$\n",
    "to make $u_{t}$ closer to a white noise. The *augmented Dicky-Fuller\n",
    "test* takes the same testing procedure as the simple version.\n",
    "\n",
    "**Code Example** We can invoke the Dicky-Fuller test from the R package `urca`. We test the stationarity for the two time series separately. "
   ]
  },
  {
   "cell_type": "code",
   "execution_count": 7,
   "metadata": {},
   "outputs": [
    {
     "data": {
      "text/plain": [
       "\n",
       "############################################### \n",
       "# Augmented Dickey-Fuller Test Unit Root Test # \n",
       "############################################### \n",
       "\n",
       "Test regression drift \n",
       "\n",
       "\n",
       "Call:\n",
       "lm(formula = z.diff ~ z.lag.1 + 1)\n",
       "\n",
       "Residuals:\n",
       "     Min       1Q   Median       3Q      Max \n",
       "-2.49302 -0.65091  0.04418  0.63825  2.43199 \n",
       "\n",
       "Coefficients:\n",
       "            Estimate Std. Error t value Pr(>|t|)    \n",
       "(Intercept) -0.09238    0.06695  -1.380    0.169    \n",
       "z.lag.1     -0.32039    0.05233  -6.123 4.89e-09 ***\n",
       "---\n",
       "Signif. codes:  0 '***' 0.001 '**' 0.01 '*' 0.05 '.' 0.1 ' ' 1\n",
       "\n",
       "Residual standard error: 0.9218 on 197 degrees of freedom\n",
       "Multiple R-squared:  0.1599,\tAdjusted R-squared:  0.1556 \n",
       "F-statistic: 37.49 on 1 and 197 DF,  p-value: 4.894e-09\n",
       "\n",
       "\n",
       "Value of test-statistic is: -6.1227 18.7449 \n",
       "\n",
       "Critical values for test statistics: \n",
       "      1pct  5pct 10pct\n",
       "tau2 -3.46 -2.88 -2.57\n",
       "phi1  6.52  4.63  3.81\n"
      ]
     },
     "metadata": {},
     "output_type": "display_data"
    }
   ],
   "source": [
    "library(urca)\n",
    "\n",
    "# we first try the stationary time series\n",
    "dftest <- ur.df(y = stationary, lag = 0, type = \"drift\")\n",
    "summary(dftest)"
   ]
  },
  {
   "cell_type": "code",
   "execution_count": 9,
   "metadata": {},
   "outputs": [
    {
     "name": "stdout",
     "output_type": "stream",
     "text": [
      "\n",
      "############################################################### \n",
      "# Augmented Dickey-Fuller Test Unit Root / Cointegration Test # \n",
      "############################################################### \n",
      "\n",
      "The value of the test statistic is: -1.5721 1.4984 \n",
      "\n"
     ]
    }
   ],
   "source": [
    "# next we try the random walk\n",
    "dftest <- ur.df(y = ur, lag = 0, type = \"drift\")\n",
    "print(dftest)"
   ]
  },
  {
   "cell_type": "markdown",
   "metadata": {},
   "source": [
    "Spurious Regression and Cointegration\n",
    "-------------------------------------\n",
    "\n",
    "*This section is incomplete*.[^3]\n",
    "\n",
    "Economists in the 60’s and 70’s were surprised that, when they ran OLS\n",
    "for two seemingly unrelated time series, they often witnessed a high\n",
    "$t$-ratio and a large $R^{2}$. This phenomenon, known as the *spurious\n",
    "regression*, had been puzzling economists until it was demystified by\n",
    "Phillips (1986). Phillips proved that when $y_{t}$ and $x_{t}$ are\n",
    "independent unit root processes, neither the $t$-ratio nor $R^{2}$\n",
    "converges in probability to a point. They become non-degenerate random\n",
    "variables no matter how large the sample is.\n",
    "\n",
    "If two unit root processes are independent, then $y_{t}-\\gamma x_{t}$ is\n",
    "a unit root time series for all $\\gamma$. However, real-world\n",
    "non-stationary time series can be linked. Such time series are said to\n",
    "be *cointegrated*. For example, on the financial market the spot price\n",
    "of gold and the future price of gold must be tightly connected. If the\n",
    "future price is too low relative to the spot price, this arbitrage\n",
    "opportunity will drive traders to buy future gold and sell spot gold.\n",
    "These transactions will push down the spot price and pull up the future\n",
    "price until they strike a balance again. Therefore it is of practical\n",
    "importance to quantify the coefficient in a cointegration system.\n",
    "\n",
    "The *Engle-Granger test* is a simple procedure to check cointegration.\n",
    "\n",
    "1.  Run an OLS between $y_{t}$ and $x_{t}$, and save the residual\n",
    "    $\\widehat{u}_{t}$.\n",
    "\n",
    "2.  Run an (augmented) Dicky-Fuller test for the time series\n",
    "    $(\\widehat{u}_{t})$ to check stationarity. The critical values can\n",
    "    be found in Wooldridge(2012)’s Table 18.4.\n",
    "\n",
    "[^1]: AR(1) with $\\left|\\gamma\\right|<1$ is not stationary without the\n",
    "    mean and the variance assumptions on $y_{0}$. This point is often\n",
    "    ignored in heuristics as the role of $y_{0}$ becomes negligible in a\n",
    "    long time series.\n",
    "\n",
    "[^2]: *Drift* means that we include the constant in OLS\n",
    "\n",
    "[^3]: Readers are referred to Wooldridge’s textbook (2012, Chapter 18.3\n",
    "    and 18.4) for a detailed account of the spurious regression and\n",
    "    cointegration. There is no point for me to fully develop this\n",
    "    section.\n",
    "    \n",
    "**Simulation Example**\n",
    "This is an example of the spurious regression. The two time series $\\{y_t\\}$ and $\\{x_t\\}$ are generated independently, so that $E[y_t|x_t] = 0$. However, we observe a high $R^2$ and large t-value if we regression $y_t$ against $x_t$."
   ]
  },
  {
   "cell_type": "code",
   "execution_count": 12,
   "metadata": {},
   "outputs": [
    {
     "name": "stdout",
     "output_type": "stream",
     "text": [
      "\n",
      "Call:\n",
      "lm(formula = y ~ x)\n",
      "\n",
      "Coefficients:\n",
      "(Intercept)            x  \n",
      "     0.6365       0.9886  \n",
      "\n"
     ]
    },
    {
     "data": {
      "image/png": "[encoded data removed]",
      "text/plain": [
       "plot without title"
      ]
     },
     "metadata": {},
     "output_type": "display_data"
    }
   ],
   "source": [
    "T = 50\n",
    "a = 1\n",
    "\n",
    "y <- AR(a, T)\n",
    "x <- AR(a, T)\n",
    "matplot( cbind(y, x), type = \"l\", ylab = \"\" )\n",
    "\n",
    "reg <- lm(y ~ x)\n",
    "print(reg)"
   ]
  },
  {
   "cell_type": "markdown",
   "metadata": {},
   "source": [
    "We run a regression to check that if we naively use 1.96 as the critical value for the $t$-ratio, how often we would reject the null hypothesis that $\\beta = 0$. "
   ]
  },
  {
   "cell_type": "code",
   "execution_count": 13,
   "metadata": {},
   "outputs": [
    {
     "name": "stdout",
     "output_type": "stream",
     "text": [
      "[1] 0.5413\n"
     ]
    }
   ],
   "source": [
    "spurious <- function(i, a, T){\n",
    "    y <- AR(a, T)\n",
    "    x <- AR(a, T)\n",
    "}\n",
    "\n",
    "library(\"plyr\")\n",
    "out <- ldply(.data = 1:100, .fun = spurious, a = 1, T = 100)\n",
    "print( mean(out < 0.05) )"
   ]
  },
  {
   "cell_type": "markdown",
   "metadata": {},
   "source": [
    "The nominal asymptotic test size is $5\\%$ according to the standard asymptotic theory. However, the empirical size, the percentage of times that rejects the null turns out to be dramatically larger in this simulation. The drastic deviation suggests that the standard asymptotic theory fails in the nonstationary environment.\n",
    "\n",
    "**Real Data Example**"
   ]
  },
  {
   "cell_type": "code",
   "execution_count": 2,
   "metadata": {},
   "outputs": [
    {
     "name": "stderr",
     "output_type": "stream",
     "text": [
      "Loading required package: xts\n",
      "Loading required package: zoo\n",
      "\n",
      "Attaching package: 'zoo'\n",
      "\n",
      "The following objects are masked from 'package:base':\n",
      "\n",
      "    as.Date, as.Date.numeric\n",
      "\n",
      "Loading required package: TTR\n",
      "Version 0.4-0 included new data defaults. See ?getSymbols.\n",
      "'getSymbols' currently uses auto.assign=TRUE by default, but will\n",
      "use auto.assign=FALSE in 0.5-0. You will still be able to use\n",
      "'loadSymbols' to automatically load data. getOption(\"getSymbols.env\")\n",
      "and getOption(\"getSymbols.auto.assign\") will still be checked for\n",
      "alternate defaults.\n",
      "\n",
      "This message is shown once per session and may be disabled by setting \n",
      "options(\"getSymbols.warning4.0\"=FALSE). See ?getSymbols for details.\n",
      "\n",
      "\n",
      "WARNING: There have been significant changes to Yahoo Finance data.\n",
      "Please see the Warning section of '?getSymbols.yahoo' for details.\n",
      "\n",
      "This message is shown once per session and may be disabled by setting\n",
      "options(\"getSymbols.yahoo.warning\"=FALSE).\n"
     ]
    },
    {
     "data": {
      "text/html": [
       "'FB'"
      ],
      "text/latex": [
       "'FB'"
      ],
      "text/markdown": [
       "'FB'"
      ],
      "text/plain": [
       "[1] \"FB\""
      ]
     },
     "metadata": {},
     "output_type": "display_data"
    },
    {
     "name": "stdout",
     "output_type": "stream",
     "text": [
      "           FB.Open FB.High FB.Low FB.Close FB.Volume FB.Adjusted\n",
      "2017-01-03  116.03  117.84 115.51   116.86  20663900      116.86\n",
      "2017-01-04  117.55  119.66 117.29   118.69  19630900      118.69\n",
      "2017-01-05  118.86  120.95 118.32   120.67  19492200      120.67\n",
      "2017-01-06  120.98  123.88 120.03   123.41  28545300      123.41\n",
      "2017-01-09  123.55  125.43 123.04   124.90  22861600      124.90\n",
      "2017-01-10  124.82  125.50 124.28   124.35  17324600      124.35\n"
     ]
    }
   ],
   "source": [
    "# FB <- read.csv(\"http://ichart.finance.yahoo.com/table.csv?s=FB\")\n",
    "library(quantmod)\n",
    "library(urca)\n",
    "\n",
    "getSymbols(\"FB\", from = \"2017-01-01\", to = Sys.Date(), src = \"yahoo\")\n",
    "print( head(FB) )\n",
    "\n",
    "fb <- FB$FB.Close[1:150]\n",
    "fb <- fb[151 - (1:150)] # reverse the order. From early to late"
   ]
  },
  {
   "cell_type": "code",
   "execution_count": 3,
   "metadata": {},
   "outputs": [
    {
     "data": {},
     "metadata": {},
     "output_type": "display_data"
    },
    {
     "data": {
      "text/plain": [
       "\n",
       "############################################### \n",
       "# Augmented Dickey-Fuller Test Unit Root Test # \n",
       "############################################### \n",
       "\n",
       "Test regression drift \n",
       "\n",
       "\n",
       "Call:\n",
       "lm(formula = z.diff ~ z.lag.1 + 1 + z.diff.lag)\n",
       "\n",
       "Residuals:\n",
       "    Min      1Q  Median      3Q     Max \n",
       "-5.3314 -0.7653 -0.2093  1.0059  4.4184 \n",
       "\n",
       "Coefficients:\n",
       "             Estimate Std. Error t value Pr(>|t|)\n",
       "(Intercept)  0.493075   1.548546   0.318    0.751\n",
       "z.lag.1     -0.001012   0.010663  -0.095    0.925\n",
       "z.diff.lag1 -0.093195   0.083911  -1.111    0.269\n",
       "z.diff.lag2 -0.017921   0.083677  -0.214    0.831\n",
       "z.diff.lag3  0.066224   0.083213   0.796    0.427\n",
       "\n",
       "Residual standard error: 1.44 on 141 degrees of freedom\n",
       "Multiple R-squared:  0.01351,\tAdjusted R-squared:  -0.01448 \n",
       "F-statistic: 0.4827 on 4 and 141 DF,  p-value: 0.7484\n",
       "\n",
       "\n",
       "Value of test-statistic is: -0.0949 3.5461 \n",
       "\n",
       "Critical values for test statistics: \n",
       "      1pct  5pct 10pct\n",
       "tau2 -3.46 -2.88 -2.57\n",
       "phi1  6.52  4.63  3.81\n"
      ]
     },
     "metadata": {},
     "output_type": "display_data"
    },
    {
     "data": {
      "image/png": "[encoded data removed]",
      "text/plain": [
       "plot without title"
      ]
     },
     "metadata": {},
     "output_type": "display_data"
    }
   ],
   "source": [
    "plot(fb, type = \"l\", xlab = \"\", ylab = \"price\")\n",
    "dftest <- ur.df(y = fb, lags = 3, type = \"drift\")\n",
    "summary(dftest)"
   ]
  },
  {
   "cell_type": "code",
   "execution_count": 4,
   "metadata": {},
   "outputs": [
    {
     "data": {
      "text/html": [
       "'GOOG'"
      ],
      "text/latex": [
       "'GOOG'"
      ],
      "text/markdown": [
       "'GOOG'"
      ],
      "text/plain": [
       "[1] \"GOOG\""
      ]
     },
     "metadata": {},
     "output_type": "display_data"
    },
    {
     "name": "stdout",
     "output_type": "stream",
     "text": [
      "           GOOG.Open GOOG.High GOOG.Low GOOG.Close GOOG.Volume GOOG.Adjusted\n",
      "2017-01-03    778.81   789.630  775.800     786.14     1657300        786.14\n",
      "2017-01-04    788.36   791.340  783.160     786.90     1073000        786.90\n",
      "2017-01-05    786.08   794.480  785.020     794.02     1335200        794.02\n",
      "2017-01-06    795.26   807.900  792.204     806.15     1640200        806.15\n",
      "2017-01-09    806.40   809.966  802.830     806.65     1272400        806.65\n",
      "2017-01-10    807.86   809.130  803.510     804.79     1176800        804.79\n"
     ]
    }
   ],
   "source": [
    "getSymbols(\"GOOG\", from = \"2017-01-01\", to = Sys.Date(), src = \"yahoo\")\n",
    "print( head(GOOG) )\n",
    "\n",
    "tw <- GOOG$GOOG.Close[1:150]\n",
    "tw <- tw[151 - (1:150)] # reverse the order. From early to late"
   ]
  },
  {
   "cell_type": "code",
   "execution_count": 5,
   "metadata": {},
   "outputs": [
    {
     "data": {
      "image/png": "[encoded data removed]",
      "text/plain": [
       "plot without title"
      ]
     },
     "metadata": {},
     "output_type": "display_data"
    },
    {
     "data": {
      "text/plain": [
       "\n",
       "############################################### \n",
       "# Augmented Dickey-Fuller Test Unit Root Test # \n",
       "############################################### \n",
       "\n",
       "Test regression drift \n",
       "\n",
       "\n",
       "Call:\n",
       "lm(formula = z.diff ~ z.lag.1 + 1 + z.diff.lag)\n",
       "\n",
       "Residuals:\n",
       "    Min      1Q  Median      3Q     Max \n",
       "-3.3560 -0.6123 -0.0902  0.5908  6.3293 \n",
       "\n",
       "Coefficients:\n",
       "             Estimate Std. Error t value Pr(>|t|)\n",
       "(Intercept)  0.144655   0.100668   1.437    0.153\n",
       "z.lag.1     -0.003578   0.018130  -0.197    0.844\n",
       "z.diff.lag1  0.058375   0.086012   0.679    0.498\n",
       "z.diff.lag2  0.137698   0.085618   1.608    0.110\n",
       "z.diff.lag3  0.066837   0.085747   0.779    0.437\n",
       "\n",
       "Residual standard error: 1.175 on 141 degrees of freedom\n",
       "Multiple R-squared:  0.02863,\tAdjusted R-squared:  0.001077 \n",
       "F-statistic: 1.039 on 4 and 141 DF,  p-value: 0.3893\n",
       "\n",
       "\n",
       "Value of test-statistic is: -0.1974 1.0772 \n",
       "\n",
       "Critical values for test statistics: \n",
       "      1pct  5pct 10pct\n",
       "tau2 -3.46 -2.88 -2.57\n",
       "phi1  6.52  4.63  3.81\n"
      ]
     },
     "metadata": {},
     "output_type": "display_data"
    },
    {
     "data": {
      "image/png": "[encoded data removed]",
      "text/plain": [
       "plot without title"
      ]
     },
     "metadata": {},
     "output_type": "display_data"
    }
   ],
   "source": [
    "# cointegration\n",
    "matplot(cbind(fb, tw), type = \"l\")\n",
    "\n",
    "ols <- lm(fb ~ tw)\n",
    "e <- as.numeric( ols$residuals )\n",
    "\n",
    "plot(e, type = \"l\")\n",
    "dftest <- ur.df(y = e, lags = 3, type = \"drift\")\n",
    "summary(dftest)"
   ]
  }
 ],
 "metadata": {
  "kernelspec": {
   "display_name": "R",
   "language": "R",
   "name": "ir"
  },
  "language_info": {
   "codemirror_mode": "r",
   "file_extension": ".r",
   "mimetype": "text/x-r-source",
   "name": "R",
   "pygments_lexer": "r",
   "version": "3.4.1"
  }
 },
 "nbformat": 4,
 "nbformat_minor": 2
}
