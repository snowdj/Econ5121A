{
 "cells": [
  {
   "cell_type": "markdown",
   "metadata": {},
   "source": [
    "# Panel Data\n",
    "\n",
    "\n",
    "Economists mostly work with observational data. \n",
    "The data generation process is out of the researchers' control.\n",
    "If we only have a cross sectional dataset at hand, it is difficult to control heterogeneity among the individuals.\n",
    "On the other hand, panel data offers a chance to control heterogeneity of some particular forms.\n",
    "\n",
    "\n",
    "A panel dataset tracks the same individuals across time $t=1,\\ldots,T$.\n",
    "We assume the observations are independent across $i=1,\\ldots,n$,\n",
    "while we allow some form of dependence within a group across\n",
    "$t=1,\\ldots,T$ for the same $i$. We maintain the linear equation\n",
    "$$y_{it}=\\beta_{1}+x_{it}\\beta_{2}+u_{it},\\ i=1,\\ldots,n;t=1,\\ldots,T\\label{eq:basic_eq}$$\n",
    "where $u_{it}=\\alpha_{i}+\\epsilon_{it}$ is called the *composite error*.\n",
    "Note that $\\alpha_{i}$ is the time-invariant unobserved heterogeneity,\n",
    "while $\\epsilon_{it}$ varies across individuals and time periods.\n",
    "\n",
    "**Data Example** Below is a dataset from [NBER-CES Manufacturing Industry Database](http://www.nber.org/nberces/). \n",
    "The data size is about 4M. Downloading would take up to a few minutes if the network is slow. \n",
    "Here we have saved the data in a csv file. The dataset contains annual information of 473 USA industries during 1958 to 2009. \n",
    "To have some idea what a panel data looks like, we display a few rows and columns. "
   ]
  },
  {
   "cell_type": "code",
   "execution_count": null,
   "metadata": {},
   "outputs": [],
   "source": [
    "g0 <- read.csv(\"naics5809.csv\")\n",
    "g0[c(1:10, 50:60), 1:10]"
   ]
  },
  {
   "cell_type": "markdown",
   "metadata": {},
   "source": [
    "\n",
    "**Data Example** \n",
    "`install.packages(\"plm\")` if you use the package [plm](http://cran.r-project.org/web/packages/plm/) for the first time. An introduction can be found [here](http://cran.r-project.org/web/packages/plm/vignettes/plm.pdf). Load the package."
   ]
  },
  {
   "cell_type": "code",
   "execution_count": null,
   "metadata": {},
   "outputs": [],
   "source": [
    "library(plm)\n",
    "g <- pdata.frame( g0, index = c(\"naics\", \"year\") )"
   ]
  },
  {
   "cell_type": "code",
   "execution_count": null,
   "metadata": {},
   "outputs": [],
   "source": [
    "# the regression equation\n",
    "equation <- emp~invest+cap\n",
    "\n",
    "# Nothing prevents from running an OLS. \n",
    "g.ols <- lm(equation, data=g)\n",
    "summary(g.ols)"
   ]
  },
  {
   "cell_type": "code",
   "execution_count": null,
   "metadata": {},
   "outputs": [],
   "source": [
    "# The OLS coefficient estimates are exactly the same as the pooled OLS. \n",
    "# The only difference in the summary is that the later shows the panel structure \n",
    "# of the data.\n",
    "\n",
    "g.pool <- plm(equation,data=g,model=\"pooling\")\n",
    "summary(g.pool)"
   ]
  },
  {
   "cell_type": "markdown",
   "metadata": {},
   "source": [
    "The most important techniques of panel data estimation are the fixed effect regression and the random effect regression. The asymptotic distributions of both estimators can be derived from knowledge about the OLS regression. In this sense, panel data estimation becomes applied examples of the theory that we have covered in this course. It highlights the fundamental role of theory in econometrics."
   ]
  },
  {
   "cell_type": "markdown",
   "metadata": {},
   "source": [
    "## Fixed Effect\n",
    "\n",
    "OLS is consistent for\n",
    "the linear projection model.\n",
    "Since $\\alpha_i$ is unobservable, it is absorbed into the composite error\n",
    "$u_{it} = \\alpha_i + \\epsilon_{it}$. If\n",
    "$\\mathrm{cov}\\left(\\alpha_{i},x_{it}\\right)=0$, the OLS is consistent;\n",
    "otherwise the consistency breaks down. The fixed\n",
    "effect model allows $\\alpha_{i}$ and $x_{it}$ to be arbitrarily\n",
    "correlated. The trick to regain consistency is to eliminate\n",
    "$\\alpha_{i},i=1,\\ldots,n$ . The rest of this section develops the\n",
    "consistency and asymptotic distribution of the *within estimator*, the\n",
    "default fixed-effect (FE) estimator. The within estimator transforms the\n",
    "data by subtracting all the observable variables by the corresponding\n",
    "group means. Averaging the $T$ equations of the original regression for the\n",
    "same $i$, we have\n",
    "$$\\overline{y}_{i}=\\beta_{1}+\\overline{x}_{i}\\beta_{2}+\\bar{u}_{it}=\\beta_{1}+\\overline{x}_{i}\\beta_{2}+\\alpha_{i}+\\bar{\\epsilon}_{it}.\\label{eq:group_mean}$$\n",
    "where $\\overline{y}_{i}=\\frac{1}{T}\\sum_{t=1}^{T}y_{it}$. Subtracting\n",
    "the averaged equation from the original equation gives\n",
    "$$\\tilde{y}_{it}=\\tilde{x}_{it}\\beta_{2}+\\tilde{\\epsilon}_{it}\\label{eq:FE_demean}$$\n",
    "where $\\tilde{y}_{it}=y_{it}-\\overline{y}_{i}$. We then run OLS with the\n",
    "demeaned data, and obtain the within estimator\n",
    "$$\\widehat{\\beta}_{2}^{FE}=\\left(\\tilde{X}'\\tilde{X}\\right)^{-1}\\tilde{X}'\\tilde{y},$$\n",
    "where $\\tilde{y}=\\left(y_{it}\\right)_{i,t}$ stacks all the $nT$\n",
    "observations into a vector, and similarly defined is $\\tilde{X}$ as an\n",
    "$nT\\times K$ matrix, where $K$ is the dimension of $\\beta_{2}$."
   ]
  },
  {
   "cell_type": "markdown",
   "metadata": {},
   "source": [
    "We know that OLS would be consistent if\n",
    "$E\\left[\\tilde{\\epsilon}_{it}|\\tilde{x}_{it}\\right]=0$. Below we\n",
    "provide a sufficient condition, which is often called *strict\n",
    "exogeneity*.\n",
    "\n",
    "**Assumption FE.1**\n",
    "$E\\left[\\epsilon_{it}|\\alpha_{i},\\mathbf{x}_{i}\\right]=0$ where\n",
    "$\\mathbf{x}_{i}=\\left(x_{i1},\\ldots,x_{iT}\\right)$.\n",
    "\n",
    "Its strictness is relative to the contemporary exogeneity\n",
    "$E\\left[\\epsilon_{it}|\\alpha_{i},x_{it}\\right]=0$. FE.1 is more\n",
    "restrictive as it assumes that the error $\\epsilon_{it}$ is mean\n",
    "independent of the past, present and future explanatory variables.\n",
    "\n",
    "When we talk about the consistency in panel data, typically we are\n",
    "considering $n\\to\\infty$ while $T$ stays fixed. This asymptotic\n",
    "framework is appropriate for panel datasets with many individuals but\n",
    "only a few time periods.\n",
    "\n",
    "**Proposition** If FE.1 is satisfied, then $\\widehat{\\beta}_{2}^{FE}$ is consistent."
   ]
  },
  {
   "cell_type": "markdown",
   "metadata": {},
   "source": [
    "The variance estimation for the FE estimator is a little bit tricky. We\n",
    "assume a homoskedasitcity condition to simplify the calculation.\n",
    "Violation of this assumption changes the form of the asymptotic\n",
    "variance, but does not jeopardize the asymptotic normality.\n",
    "\n",
    "**Assumption FE.2**\n",
    "$\\mathrm{var}\\left(\\epsilon_{i}|\\alpha_{i},\\mathbf{x}_{i}\\right)=\\sigma_{\\epsilon}^{2}I_{T}$.\n",
    "\n",
    "Under FE.1 and FE.2,\n",
    "$\\widehat{\\sigma}_{\\epsilon}^{2}=\\frac{1}{n\\left(T-1\\right)}\\sum_{i=1}^{n}\\sum_{t=1}^{T}\\widehat{\\tilde{\\epsilon}}_{it}^{2}$\n",
    "is a consistent estimator of $\\sigma_{\\epsilon}^{2}$, where\n",
    "$\\widehat{\\tilde{\\epsilon}}=\\tilde{y}_{it}-\\tilde{x}_{it}\\widehat{\\beta}_{2}^{FE}$.\n",
    "Note that the denominator is $n\\left(T-1\\right)$, not $nT$. \n",
    "The necessity of adjusting the degree of freedom can be easily seen from the FWL theorem: \n",
    "the FE estimator for the slope coefficient is numerical the same as \n",
    "its counterpart in the full regression with a dummy variable for each cross sectional unit. \n",
    "\n",
    "If FE.1 and FE.2 are satisfied, then\n",
    "$$\\left(\\widehat{\\sigma}_{\\epsilon}^{2}\\left(\\tilde{X}'\\tilde{X}\\right)^{-1}\\right)^{-1/2}\\left(\\widehat{\\beta}_{2}^{FE}-\\beta_{2}^{0}\\right)\\stackrel{d}{\\to} N\\left(0,I_{K}\\right).$$\n",
    "\n",
    "We implicitly assume some regularity conditions that allow us to invoke\n",
    "a law of large numbers and a central limit theorem. We ignore those\n",
    "technical details here.\n",
    "\n",
    "It is important to notice that the within-group demean in FE eliminates\n",
    "all time-invariant explanatory variables, including the intercept.\n",
    "Therefore from FE we cannot obtain the coefficient estimates of these\n",
    "time-invariant variables.\n",
    "\n",
    "**Data Example** In reality we do not need to compute the estimator or the variance by hand. `R` handles them automatically."
   ]
  },
  {
   "cell_type": "code",
   "execution_count": null,
   "metadata": {},
   "outputs": [],
   "source": [
    "g.fe <- plm(equation, data=g, model=\"within\") \n",
    "# statisticians call the FE estimator 'within' estimator as it carries out\n",
    "# a within-group transformation\n",
    "summary(g.fe)"
   ]
  },
  {
   "cell_type": "markdown",
   "metadata": {},
   "source": [
    "**Publication Example** Lin, Justin Yifu (1992): [Rural Reforms and Agricultural\n",
    "Growth in China](http://www.jstor.org/stable/2117601), *The American\n",
    "Economic Review*, Vol.82, No.1, pp.34-51.\n",
    "\n",
    "The 1978 fundamental Chinese economic reform set off from the rural\n",
    "sector. The Chinese agricultural industry witnessed a dramatic growth\n",
    "during 1978-1984. The output was multiple times higher than the average\n",
    "over of the preceding period. It was in debate whether the growth was\n",
    "attributed to the household-responsibility system (HRS) reform, or other\n",
    "factors such as the rising prices and inputs.\n",
    "\n",
    "Lin (1992) attempts to disentangle these factors using panel data of 28\n",
    "mainland provinces from 1970 to 1987. He estimates the following\n",
    "fixed-effect regression model by OLS.\n",
    "\n",
    "$$\n",
    "\\begin{aligned}\n",
    "ln Y_{it} & = \\alpha_1 + \\alpha_2\n",
    "+ \\ln(\\mathrm{Land}_{it}) + \\alpha_3 \\ln (\\mathrm{Labor}_{it}) +\n",
    "\\alpha_4 \\ln (\\mathrm{Capital}_{it}) + \\alpha_5 \\ln\n",
    "(\\mathrm{Fert}_{it} ) + \\alpha_6 \\mathrm{HRS}_{it} \\\\ \n",
    " & +\n",
    "\\alpha_7 \\mbox{MP}_{t-1} \n",
    "+ \\alpha_8 \\mathrm{GP}_t + \\alpha_9\n",
    "\\mbox{NGCA}_{it} + \\alpha_{10} \\mbox{MCI}_{it} + \\alpha_{11}\n",
    "T_t + \\sum_{j=12}^{39} \\alpha_{j} D_j +\n",
    "\\epsilon_{it}.\n",
    "\\end{aligned}$$\n",
    "\n",
    "Given the OLS estimates, he calculates the serial correlation \\[last\n",
    "row, Table 5, p.43\\], which suggests the presence of serial correlation.\n",
    "He then estimates the regression by GLS and the results are reported in\n",
    "Table 5 \\[p.43, Column (1) and (3)\\]. The empirical findings are robust\n",
    "across several specifications. For example, Equation (1′) \\[page 42\\]\n",
    "adds time dummies to capture the possible time trend. The importance of\n",
    "HRS is supported across specifications by the highly significant\n",
    "coefficient. Based on the estimates, he also evaluates how much of the\n",
    "relative contribution to the agricultural growth was made by the reform,\n",
    "and how much was by the change in inputs.\n"
   ]
  },
  {
   "cell_type": "markdown",
   "metadata": {},
   "source": [
    "## Random Effect\n",
    "\n",
    "The random effect estimator pursues efficiency at a knife-edge special\n",
    "case $\\mathrm{cov}\\left(\\alpha_{i},x_{it}\\right)=0$. As mentioned above,\n",
    "FE is consistent when $\\alpha_{i}$ and $x_{it}$ are uncorrelated.\n",
    "However, an inspection of the covariance matrix reveals that OLS is\n",
    "inefficient.\n",
    "\n",
    "The starting point is again the original model, while we assume\n",
    "\n",
    "**Assumption RE.1**\n",
    "$E\\left[\\epsilon_{it}|\\alpha_{i},\\mathbf{x}_{i}\\right]=0$ and\n",
    "$E\\left[\\alpha_{i}|\\mathbf{x}_{i}\\right]=0$.\n",
    "\n",
    "RE.1 obviously implies $\\mathrm{cov}\\left(\\alpha_{i},x_{it}\\right)=0$,\n",
    "so\n",
    "$$S=\\mathrm{var}\\left(u_{i}|\\mathbf{x}_{i}\\right)=\\sigma_{\\alpha}^{2}\\mathbf{1}_{T}\\mathbf{1}_{T}'+\\sigma_{\\epsilon}^{2}I_{T},\\ \\mbox{for all }i=1,\\ldots,n.$$\n",
    "Because the covariance matrix is not a scalar multiplication of the\n",
    "identity matrix, OLS is inefficient."
   ]
  },
  {
   "cell_type": "markdown",
   "metadata": {},
   "source": [
    "As mentioned before, FE estimation kills all time-invariant regressors.\n",
    "In contrast, RE allows time-invariant explanatory variables. Let us\n",
    "rewrite the original equation as\n",
    "$$y_{it}=w_{it}\\boldsymbol{\\beta}+u_{it},$$ where\n",
    "$\\boldsymbol{\\beta}=\\left(\\beta_{1},\\beta_{2}'\\right)'$ and\n",
    "$w_{it}=\\left(1,x_{it}\\right)$ are $K+1$ vectors, i.e.,\n",
    "$\\boldsymbol{\\beta}$ is the parameter including the intercept, and\n",
    "$w_{it}$ is the explanatory variables including the constant. Had we\n",
    "known $S$, the GLS estimator would be\n",
    "$$\\widehat{\\boldsymbol{\\beta}}^{RE}=\\left(\\sum_{i=1}^{n}\\mathbf{w}_{i}'S^{-1}\\mathbf{w}_{i}\\right)^{-1}\\sum_{i=1}^{n}\\mathbf{w}_{i}'S^{-1}\\mathbf{y}_{i}=\\left(W'\\mathbf{S}^{-1}W\\right)^{-1}W'\\mathbf{S}^{-1}y$$\n",
    "where $\\mathbf{S}=I_{T}\\otimes S$. (“$\\otimes$” denotes the Kronecker\n",
    "product.) In practice, $\\sigma_{\\alpha}^{2}$ and $\\sigma_{\\epsilon}^{2}$\n",
    "in $S$ are unknown, so we seek consistent estimators. Again, we impose a\n",
    "simplifying assumption parallel to FE.2."
   ]
  },
  {
   "cell_type": "markdown",
   "metadata": {},
   "source": [
    "**Assumption RE.2**\n",
    "$\\mathrm{var}\\left(\\epsilon_{i}|\\mathbf{x}_{i},\\alpha_{i}\\right)=\\sigma_{\\epsilon}^{2}I_{T}$\n",
    "and\n",
    "$\\mathrm{var}\\left(\\alpha_{i}|\\mathbf{x}_{i}\\right)=\\sigma_{\\alpha}^{2}.$\n",
    "\n",
    "Under this assumption, we can consistently estimate the variances from\n",
    "the residuals\n",
    "$\\widehat{u}_{it}=y_{it}-x_{it}\\widehat{\\boldsymbol{\\beta}}^{RE}$. That\n",
    "is \n",
    "$$\\begin{aligned}\n",
    "\\widehat{\\sigma}_{u}^{2} & =  \\frac{1}{nT}\\sum_{i=1}^{n}\\sum_{t=1}^{T}\\widehat{u}_{it}^{2}\\\\\n",
    "\\widehat{\\sigma}_{\\epsilon}^{2} & =  \\frac{1}{n}\\sum_{i=1}^{n}\\frac{1}{T\\left(T-1\\right)}\\sum_{t=1}^{T}\\sum_{r=1}^{T}\\sum_{r\\neq t}\\widehat{u}_{it}\\widehat{u}_{ir}.\n",
    "\\end{aligned}$$\n",
    "\n",
    "Again, we claim the asymptotic normality.\n",
    "\n",
    "If RE.1 and RE.2 are satisfied, then\n",
    "$$\\left(\\widehat{\\sigma}_{u}^{2}\\left(W'\\widehat{\\mathbf{S}}^{-1}W\\right)^{-1}\\right)^{-1/2}\\left(\\widehat{\\boldsymbol{\\beta}}^{RE}-\\boldsymbol{\\beta}_{0}\\right)\n",
    "\\stackrel{d}{\\to}\n",
    "N\\left(0,I_{K+1}\\right)$$\n",
    "where $\\widehat{\\mathbf{S}}$ is a consistent estimator of $\\mathbf{S}$.\n",
    "\n",
    "The complicated formula of the RE estimator is not important because again it will be handled by an econometric package automatically.\n",
    "what is important is the conceptual difference of FE and RE on their treatment of the unobservable individual heterogeneity.\n",
    "\n",
    "**Data Example** RE regression"
   ]
  },
  {
   "cell_type": "code",
   "execution_count": null,
   "metadata": {},
   "outputs": [],
   "source": [
    "g.re <- plm(equation, data=g, model=\"random\")\n",
    "summary(g.re)"
   ]
  },
  {
   "cell_type": "code",
   "execution_count": null,
   "metadata": {},
   "outputs": [],
   "source": [
    "# Which model is preferred? \n",
    "# The Hausman test favors the fixed-effect model.\n",
    "phtest(g.re, g.fe)"
   ]
  },
  {
   "cell_type": "code",
   "execution_count": null,
   "metadata": {},
   "outputs": [],
   "source": []
  }
 ],
 "metadata": {
  "kernel_info": {
   "name": "ir"
  },
  "kernelspec": {
   "display_name": "R",
   "language": "R",
   "name": "ir"
  },
  "language_info": {
   "codemirror_mode": "r",
   "file_extension": ".r",
   "mimetype": "text/x-r-source",
   "name": "R",
   "pygments_lexer": "r",
   "version": "3.5.0"
  },
  "nteract": {
   "version": "0.11.6"
  }
 },
 "nbformat": 4,
 "nbformat_minor": 2
}
