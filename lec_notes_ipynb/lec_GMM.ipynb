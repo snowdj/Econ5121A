{
 "cells": [
  {
   "cell_type": "markdown",
   "metadata": {},
   "source": [
    "Generalized Method of Moments\n",
    "=============================\n",
    "\n",
    "*Generalized method of moments* (GMM) is an estimation principle that\n",
    "extends *method of moments*. It seeks the parameter that minimizes a\n",
    "quadratic form of the moments. It is particularly useful in estimating\n",
    "structural models in which moment conditions can be derived from\n",
    "economic theory. GMM emerges as one of the most popular estimators in\n",
    "modern econometrics, and it includes conventional methods like the\n",
    "two-stage least squares (2SLS) and the three-stage least square as\n",
    "special cases."
   ]
  },
  {
   "cell_type": "markdown",
   "metadata": {},
   "source": [
    "**R Example**\n",
    "\n",
    "The CRAN packge [gmm](http://cran.r-project.org/web/packages/gmm/index.html) provides an interface for GMM estimation. In this document we demonstrate it in a nonlinear model. \n",
    "\n",
    "[Bruno Rodrigues](http://www.brodrigues.co/pages/aboutme.html) shared [his example](http://www.brodrigues.co/blog/2013-11-07-gmm-with-rmd/) with detailed instruction and discussion. \n",
    "(update: as Aug 19, 2018, his linked data no longer works. I track to the original dataset and do the conversion to make it work.) \n",
    "Unfortunately, I find his example cannot reflect the essence of GMM. The blunder was that he took the *method of moments* as the *generalized method of moments*. He worked with a just-identified model, in which the choices of **type** and **wmatrix** in his call\n",
    "```\n",
    "my_gmm <- gmm(moments, x = dat, t0 = init, type = \"iterative\", crit = 1e-25, wmatrix = \"optimal\", method = \"Nelder-Mead\", control = list(reltol = 1e-25, maxit = 20000))\n",
    "```\n",
    "is simplily irrelevant. Experimenting with different options of **type** and **wmatrix**, we will find exactly the same point estimates and variances.\n",
    "\n",
    "Below I illustrate the nonlinear GMM in an over-identified system. First we import the data and add a constant. "
   ]
  },
  {
   "cell_type": "code",
   "execution_count": 4,
   "metadata": {},
   "outputs": [
    {
     "data": {
      "text/html": [
       "<table>\n",
       "<thead><tr><th scope=col>stateur</th><th scope=col>statemb</th><th scope=col>state</th><th scope=col>age</th><th scope=col>tenure</th><th scope=col>joblost</th><th scope=col>nwhite</th><th scope=col>school12</th><th scope=col>sex</th><th scope=col>bluecol</th><th scope=col>smsa</th><th scope=col>married</th><th scope=col>dkids</th><th scope=col>dykids</th><th scope=col>yrdispl</th><th scope=col>rr</th><th scope=col>head</th><th scope=col>ui</th><th scope=col>const</th></tr></thead>\n",
       "<tbody>\n",
       "\t<tr><td> 4.5      </td><td>167       </td><td>42        </td><td>49        </td><td>21        </td><td>other     </td><td>no        </td><td>no        </td><td>male      </td><td>yes       </td><td>yes       </td><td>no        </td><td>no        </td><td>no        </td><td> 7        </td><td>0.2906310 </td><td>yes       </td><td>yes       </td><td>1         </td></tr>\n",
       "\t<tr><td>10.5      </td><td>251       </td><td>55        </td><td>26        </td><td> 2        </td><td>slack_work</td><td>no        </td><td>no        </td><td>male      </td><td>yes       </td><td>yes       </td><td>no        </td><td>yes       </td><td>yes       </td><td>10        </td><td>0.5202020 </td><td>yes       </td><td>no        </td><td>1         </td></tr>\n",
       "\t<tr><td> 7.2      </td><td>260       </td><td>21        </td><td>40        </td><td>19        </td><td>other     </td><td>no        </td><td>yes       </td><td>female    </td><td>yes       </td><td>yes       </td><td>yes       </td><td>no        </td><td>no        </td><td>10        </td><td>0.4324895 </td><td>yes       </td><td>yes       </td><td>1         </td></tr>\n",
       "\t<tr><td> 5.8      </td><td>245       </td><td>56        </td><td>51        </td><td>17        </td><td>slack_work</td><td>yes       </td><td>no        </td><td>female    </td><td>yes       </td><td>yes       </td><td>yes       </td><td>no        </td><td>no        </td><td>10        </td><td>0.5000000 </td><td>no        </td><td>yes       </td><td>1         </td></tr>\n",
       "\t<tr><td> 6.5      </td><td>125       </td><td>58        </td><td>33        </td><td> 1        </td><td>slack_work</td><td>no        </td><td>yes       </td><td>male      </td><td>yes       </td><td>yes       </td><td>yes       </td><td>yes       </td><td>yes       </td><td> 4        </td><td>0.3906250 </td><td>yes       </td><td>no        </td><td>1         </td></tr>\n",
       "\t<tr><td> 7.5      </td><td>188       </td><td>11        </td><td>51        </td><td> 3        </td><td>other     </td><td>no        </td><td>no        </td><td>male      </td><td>yes       </td><td>yes       </td><td>yes       </td><td>no        </td><td>no        </td><td>10        </td><td>0.4822007 </td><td>yes       </td><td>yes       </td><td>1         </td></tr>\n",
       "</tbody>\n",
       "</table>\n"
      ],
      "text/latex": [
       "\\begin{tabular}{r|lllllllllllllllllll}\n",
       " stateur & statemb & state & age & tenure & joblost & nwhite & school12 & sex & bluecol & smsa & married & dkids & dykids & yrdispl & rr & head & ui & const\\\\\n",
       "\\hline\n",
       "\t  4.5       & 167        & 42         & 49         & 21         & other      & no         & no         & male       & yes        & yes        & no         & no         & no         &  7         & 0.2906310  & yes        & yes        & 1         \\\\\n",
       "\t 10.5         & 251          & 55           & 26           &  2           & slack\\_work & no           & no           & male         & yes          & yes          & no           & yes          & yes          & 10           & 0.5202020    & yes          & no           & 1           \\\\\n",
       "\t  7.2       & 260        & 21         & 40         & 19         & other      & no         & yes        & female     & yes        & yes        & yes        & no         & no         & 10         & 0.4324895  & yes        & yes        & 1         \\\\\n",
       "\t  5.8         & 245          & 56           & 51           & 17           & slack\\_work & yes          & no           & female       & yes          & yes          & yes          & no           & no           & 10           & 0.5000000    & no           & yes          & 1           \\\\\n",
       "\t  6.5         & 125          & 58           & 33           &  1           & slack\\_work & no           & yes          & male         & yes          & yes          & yes          & yes          & yes          &  4           & 0.3906250    & yes          & no           & 1           \\\\\n",
       "\t  7.5       & 188        & 11         & 51         &  3         & other      & no         & no         & male       & yes        & yes        & yes        & no         & no         & 10         & 0.4822007  & yes        & yes        & 1         \\\\\n",
       "\\end{tabular}\n"
      ],
      "text/markdown": [
       "\n",
       "stateur | statemb | state | age | tenure | joblost | nwhite | school12 | sex | bluecol | smsa | married | dkids | dykids | yrdispl | rr | head | ui | const | \n",
       "|---|---|---|---|---|---|\n",
       "|  4.5       | 167        | 42         | 49         | 21         | other      | no         | no         | male       | yes        | yes        | no         | no         | no         |  7         | 0.2906310  | yes        | yes        | 1          | \n",
       "| 10.5       | 251        | 55         | 26         |  2         | slack_work | no         | no         | male       | yes        | yes        | no         | yes        | yes        | 10         | 0.5202020  | yes        | no         | 1          | \n",
       "|  7.2       | 260        | 21         | 40         | 19         | other      | no         | yes        | female     | yes        | yes        | yes        | no         | no         | 10         | 0.4324895  | yes        | yes        | 1          | \n",
       "|  5.8       | 245        | 56         | 51         | 17         | slack_work | yes        | no         | female     | yes        | yes        | yes        | no         | no         | 10         | 0.5000000  | no         | yes        | 1          | \n",
       "|  6.5       | 125        | 58         | 33         |  1         | slack_work | no         | yes        | male       | yes        | yes        | yes        | yes        | yes        |  4         | 0.3906250  | yes        | no         | 1          | \n",
       "|  7.5       | 188        | 11         | 51         |  3         | other      | no         | no         | male       | yes        | yes        | yes        | no         | no         | 10         | 0.4822007  | yes        | yes        | 1          | \n",
       "\n",
       "\n"
      ],
      "text/plain": [
       "  stateur statemb state age tenure joblost    nwhite school12 sex    bluecol\n",
       "1  4.5    167     42    49  21     other      no     no       male   yes    \n",
       "2 10.5    251     55    26   2     slack_work no     no       male   yes    \n",
       "3  7.2    260     21    40  19     other      no     yes      female yes    \n",
       "4  5.8    245     56    51  17     slack_work yes    no       female yes    \n",
       "5  6.5    125     58    33   1     slack_work no     yes      male   yes    \n",
       "6  7.5    188     11    51   3     other      no     no       male   yes    \n",
       "  smsa married dkids dykids yrdispl rr        head ui  const\n",
       "1 yes  no      no    no      7      0.2906310 yes  yes 1    \n",
       "2 yes  no      yes   yes    10      0.5202020 yes  no  1    \n",
       "3 yes  yes     no    no     10      0.4324895 yes  yes 1    \n",
       "4 yes  yes     no    no     10      0.5000000 no   yes 1    \n",
       "5 yes  yes     yes   yes     4      0.3906250 yes  no  1    \n",
       "6 yes  yes     no    no     10      0.4822007 yes  yes 1    "
      ]
     },
     "metadata": {},
     "output_type": "display_data"
    }
   ],
   "source": [
    "# load the data\n",
    "library(Ecdat, quietly = TRUE, warn.conflicts = FALSE)\n",
    "data(Benefits)\n",
    "g = Benefits\n",
    "\n",
    "g$const <- 1 # add the constant\n",
    "g1 <- g[, c(\"ui\", \"const\", \"age\", \"dkids\", \"dykids\", \"head\", \"sex\", \"married\", \"rr\") ] \n",
    "\n",
    "head(g)\n",
    "\n",
    "# to change the factors into numbers\n",
    "for (j in c(1, 4, 5, 6, 7, 8) ){\n",
    "    g1[,j] = as.numeric( g1[,j] ) -1\n",
    "}"
   ]
  },
  {
   "cell_type": "markdown",
   "metadata": {},
   "source": [
    "R's OLS function **lm** adds the intercept in the default setting. In contrast,we have to specify the moments from scratch in **gmm**. The constant, a column of ones, must be included explicitly in the data matrix.\n",
    "\n",
    "Next, we define the logistic function and the moment conditions. "
   ]
  },
  {
   "cell_type": "code",
   "execution_count": 2,
   "metadata": {},
   "outputs": [],
   "source": [
    "logistic <- function(theta, data) {\n",
    "  return(1/(1 + exp(-data %*% theta)))\n",
    "}\n",
    "\n",
    "moments <- function(theta, data) {\n",
    "  y <- as.numeric(data[, 1])\n",
    "  x <- data.matrix(data[, c(2:3, 6:8)])\n",
    "  z <- data.matrix( data[, c(2,4, 5:9) ] )  # more IVs than the regressors. Over-identified.\n",
    "  m <- z * as.vector((y - logistic(theta, x)))\n",
    "  return(cbind(m))\n",
    "}"
   ]
  },
  {
   "cell_type": "markdown",
   "metadata": {},
   "source": [
    "Here I naively adapt Bruno Rodrigues's example and specify the momemts as\n",
    "$$\n",
    "E[z_i \\epsilon_i] = E[ z_i ( y_i - \\mathrm{ logistic }(x_i \\beta ) )] = 0\n",
    "$$\n",
    "However, such a specification is almost impossible to be motivated from the economic theory of random utility models.\n",
    "\n",
    "\n",
    "Eventually, we call the GMM function and display the results. An initial value must be provided for a numerical optimization algorithm. It is recommended to try at least dozens of initial values in general unless one can show that the minimizer is unique in the model."
   ]
  },
  {
   "cell_type": "code",
   "execution_count": 3,
   "metadata": {},
   "outputs": [
    {
     "name": "stderr",
     "output_type": "stream",
     "text": [
      "Loading required package: sandwich\n"
     ]
    },
    {
     "data": {
      "text/plain": [
       "\n",
       "Call:\n",
       "gmm(g = moments, x = g1, t0 = init, type = \"twoStep\", wmatrix = \"optimal\")\n",
       "\n",
       "\n",
       "Method:  twoStep \n",
       "\n",
       "Kernel:  Quadratic Spectral(with bw =  0.38316 )\n",
       "\n",
       "Coefficients:\n",
       "             Estimate     Std. Error   t value      Pr(>|t|)   \n",
       "(Intercept)   1.5557e-01   2.6093e-01   5.9621e-01   5.5103e-01\n",
       "age           1.6488e-02   7.6263e-03   2.1620e+00   3.0619e-02\n",
       "dkids        -1.4357e-01   8.4954e-02  -1.6900e+00   9.1036e-02\n",
       "head         -6.6180e-02   8.5809e-02  -7.7125e-01   4.4056e-01\n",
       "sex           2.8576e-01   7.0287e-02   4.0656e+00   4.7903e-05\n",
       "\n",
       "J-Test: degrees of freedom is 2 \n",
       "                J-test    P-value \n",
       "Test E(g)=0:    5.160301  0.075763\n",
       "\n",
       "Initial values of the coefficients\n",
       "(Intercept)         age       dkids        head         sex \n",
       " 0.24913747  0.01357652 -0.11525498 -0.08022626  0.28346400 \n",
       "\n",
       "#############\n",
       "Information related to the numerical optimization\n",
       "Convergence code =  0 \n",
       "Function eval. =  486 \n",
       "Gradian eval. =  NA "
      ]
     },
     "metadata": {},
     "output_type": "display_data"
    }
   ],
   "source": [
    "library(gmm)  # load the library \"gmm\"\n",
    "\n",
    "init <- (lm(ui ~ age + dkids + head + sex, data = g1 ))$coefficients\n",
    "my_gmm <- gmm(moments, x = g1, t0 = init, type = \"twoStep\", wmatrix = \"optimal\")\n",
    "summary(my_gmm)"
   ]
  },
  {
   "cell_type": "markdown",
   "metadata": {},
   "source": [
    "In the summary, the $J$ statistics indicates that the moment conditions are unlikely to hold. The model requires further modification. \n",
    "\n",
    "P.S.: According to my personal experience, caution must be executed when using **gmm** in R for nonlinear models. Sometimes the estimates can be unreliable, perhaps due to the shape of the criterion function in several parameters. Simulation experiments are highly suggested before we believe the estimates."
   ]
  },
  {
   "cell_type": "code",
   "execution_count": null,
   "metadata": {},
   "outputs": [],
   "source": []
  }
 ],
 "metadata": {
  "kernel_info": {
   "name": "ir"
  },
  "kernelspec": {
   "display_name": "R",
   "language": "R",
   "name": "ir"
  },
  "language_info": {
   "codemirror_mode": "r",
   "file_extension": ".r",
   "mimetype": "text/x-r-source",
   "name": "R",
   "pygments_lexer": "r",
   "version": "3.5.3"
  },
  "nteract": {
   "version": "0.8.4"
  }
 },
 "nbformat": 4,
 "nbformat_minor": 2
}
