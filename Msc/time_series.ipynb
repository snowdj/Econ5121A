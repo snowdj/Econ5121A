{
 "cells": [
  {
   "cell_type": "markdown",
   "metadata": {
    "slideshow": {
     "slide_type": "slide"
    }
   },
   "source": [
    "   \n",
    "   # Econ5121 B&C (Fall 2018)\n",
    "\n",
    "### Zhentao Shi\n",
    "\n",
    "* Time Series\n",
    "* Panel data\n",
    "* Generalized method of moments"
   ]
  },
  {
   "cell_type": "markdown",
   "metadata": {
    "slideshow": {
     "slide_type": "slide"
    }
   },
   "source": [
    "### Useful R Packages\n",
    "\n",
    "* `quantmod`: financial and US macro data\n",
    "* `Quandl`: many data resources\n",
    "\n",
    "* `dynlm`: single-equation dynamic model\n",
    "* `tsDyn`: multiple-equation dynamic models"
   ]
  },
  {
   "cell_type": "code",
   "execution_count": 1,
   "metadata": {
    "scrolled": true,
    "slideshow": {
     "slide_type": "subslide"
    }
   },
   "outputs": [
    {
     "name": "stderr",
     "output_type": "stream",
     "text": [
      "\n",
      "Attaching package: 'zoo'\n",
      "\n",
      "The following objects are masked from 'package:base':\n",
      "\n",
      "    as.Date, as.Date.numeric\n",
      "\n",
      "Version 0.4-0 included new data defaults. See ?getSymbols.\n",
      "'getSymbols' currently uses auto.assign=TRUE by default, but will\n",
      "use auto.assign=FALSE in 0.5-0. You will still be able to use\n",
      "'loadSymbols' to automatically load data. getOption(\"getSymbols.env\")\n",
      "and getOption(\"getSymbols.auto.assign\") will still be checked for\n",
      "alternate defaults.\n",
      "\n",
      "This message is shown once per session and may be disabled by setting \n",
      "options(\"getSymbols.warning4.0\"=FALSE). See ?getSymbols for details.\n",
      "\n",
      "\n",
      "WARNING: There have been significant changes to Yahoo Finance data.\n",
      "Please see the Warning section of '?getSymbols.yahoo' for details.\n",
      "\n",
      "This message is shown once per session and may be disabled by setting\n",
      "options(\"getSymbols.yahoo.warning\"=FALSE).\n"
     ]
    },
    {
     "data": {
      "text/html": [
       "'SPY'"
      ],
      "text/latex": [
       "'SPY'"
      ],
      "text/markdown": [
       "'SPY'"
      ],
      "text/plain": [
       "[1] \"SPY\""
      ]
     },
     "metadata": {},
     "output_type": "display_data"
    },
    {
     "data": {
      "text/plain": [
       "           SPY.Open SPY.High SPY.Low SPY.Close SPY.Volume SPY.Adjusted\n",
       "2018-11-14   274.16   274.61  268.45    270.20  125335900       270.20\n",
       "2018-11-15   268.78   273.54  267.01    273.02  135101400       273.02\n",
       "2018-11-16   271.79   274.75  271.21    273.73  126668000       273.73\n",
       "2018-11-19   273.05   273.38  268.07    269.10  103061700       269.10\n",
       "2018-11-20   265.36   267.00  263.15    264.12  136021300       264.12\n",
       "2018-11-21   265.86   267.15  265.01    265.02   73997200       265.02"
      ]
     },
     "metadata": {},
     "output_type": "display_data"
    },
    {
     "data": {},
     "metadata": {},
     "output_type": "display_data"
    },
    {
     "data": {
      "image/png": "[encoded data removed]",
      "text/plain": [
       "plot without title"
      ]
     },
     "metadata": {},
     "output_type": "display_data"
    }
   ],
   "source": [
    "library(quantmod, quietly = TRUE)\n",
    "getSymbols(\"SPY\") # S&P 500\n",
    "\n",
    "tail(SPY)\n",
    "plot(SPY$SPY.Close, type = \"l\")"
   ]
  },
  {
   "cell_type": "code",
   "execution_count": 2,
   "metadata": {
    "slideshow": {
     "slide_type": "subslide"
    }
   },
   "outputs": [
    {
     "data": {
      "text/html": [
       "<table>\n",
       "<thead><tr><th scope=col>Date</th><th scope=col>Final consumption expenditure</th><th scope=col>Household consumption expenditure (including Non-profit institutions serving households)</th><th scope=col>General government final consumption expenditure</th><th scope=col>Gross capital formation</th><th scope=col>Gross fixed capital formation (including Acquisitions less disposals of valuables)</th><th scope=col>Changes in inventories</th><th scope=col>Exports of goods and services</th><th scope=col>Imports of goods and services</th><th scope=col>Gross Domestic Product (GDP)</th></tr></thead>\n",
       "<tbody>\n",
       "\t<tr><td>2016-12-31  </td><td>6.022740e+12</td><td>4.412399e+12</td><td>1.610341e+12</td><td>4.945627e+12</td><td>4.760264e+12</td><td>185362869377</td><td>2.197922e+12</td><td>1.948009e+12</td><td>1.121828e+13</td></tr>\n",
       "\t<tr><td>2015-12-31  </td><td>5.817208e+12</td><td>4.271064e+12</td><td>1.546145e+12</td><td>5.023470e+12</td><td>4.841486e+12</td><td>181983470306</td><td>2.431269e+12</td><td>2.045768e+12</td><td>1.122619e+13</td></tr>\n",
       "\t<tr><td>2014-12-31  </td><td>5.344122e+12</td><td>3.947950e+12</td><td>1.396172e+12</td><td>4.927496e+12</td><td>4.721351e+12</td><td>206145530960</td><td>2.524142e+12</td><td>2.261227e+12</td><td>1.053453e+13</td></tr>\n",
       "\t<tr><td>2013-12-31  </td><td>4.847475e+12</td><td>3.546983e+12</td><td>1.300491e+12</td><td>4.552678e+12</td><td>4.372736e+12</td><td>179942436024</td><td>2.354264e+12</td><td>2.119392e+12</td><td>9.635026e+12</td></tr>\n",
       "\t<tr><td>2012-12-31  </td><td>4.294971e+12</td><td>3.145220e+12</td><td>1.149750e+12</td><td>4.043513e+12</td><td>3.874966e+12</td><td>168547661996</td><td>2.175069e+12</td><td>1.943205e+12</td><td>8.570348e+12</td></tr>\n",
       "\t<tr><td>2011-12-31  </td><td>3.730148e+12</td><td>2.732075e+12</td><td>9.980728e+11</td><td>3.611060e+12</td><td>3.399710e+12</td><td>211349602109</td><td>2.006309e+12</td><td>1.825414e+12</td><td>7.522103e+12</td></tr>\n",
       "</tbody>\n",
       "</table>\n"
      ],
      "text/latex": [
       "\\begin{tabular}{r|llllllllll}\n",
       " Date & Final consumption expenditure & Household consumption expenditure (including Non-profit institutions serving households) & General government final consumption expenditure & Gross capital formation & Gross fixed capital formation (including Acquisitions less disposals of valuables) & Changes in inventories & Exports of goods and services & Imports of goods and services & Gross Domestic Product (GDP)\\\\\n",
       "\\hline\n",
       "\t 2016-12-31   & 6.022740e+12 & 4.412399e+12 & 1.610341e+12 & 4.945627e+12 & 4.760264e+12 & 185362869377 & 2.197922e+12 & 1.948009e+12 & 1.121828e+13\\\\\n",
       "\t 2015-12-31   & 5.817208e+12 & 4.271064e+12 & 1.546145e+12 & 5.023470e+12 & 4.841486e+12 & 181983470306 & 2.431269e+12 & 2.045768e+12 & 1.122619e+13\\\\\n",
       "\t 2014-12-31   & 5.344122e+12 & 3.947950e+12 & 1.396172e+12 & 4.927496e+12 & 4.721351e+12 & 206145530960 & 2.524142e+12 & 2.261227e+12 & 1.053453e+13\\\\\n",
       "\t 2013-12-31   & 4.847475e+12 & 3.546983e+12 & 1.300491e+12 & 4.552678e+12 & 4.372736e+12 & 179942436024 & 2.354264e+12 & 2.119392e+12 & 9.635026e+12\\\\\n",
       "\t 2012-12-31   & 4.294971e+12 & 3.145220e+12 & 1.149750e+12 & 4.043513e+12 & 3.874966e+12 & 168547661996 & 2.175069e+12 & 1.943205e+12 & 8.570348e+12\\\\\n",
       "\t 2011-12-31   & 3.730148e+12 & 2.732075e+12 & 9.980728e+11 & 3.611060e+12 & 3.399710e+12 & 211349602109 & 2.006309e+12 & 1.825414e+12 & 7.522103e+12\\\\\n",
       "\\end{tabular}\n"
      ],
      "text/markdown": [
       "\n",
       "Date | Final consumption expenditure | Household consumption expenditure (including Non-profit institutions serving households) | General government final consumption expenditure | Gross capital formation | Gross fixed capital formation (including Acquisitions less disposals of valuables) | Changes in inventories | Exports of goods and services | Imports of goods and services | Gross Domestic Product (GDP) | \n",
       "|---|---|---|---|---|---|\n",
       "| 2016-12-31   | 6.022740e+12 | 4.412399e+12 | 1.610341e+12 | 4.945627e+12 | 4.760264e+12 | 185362869377 | 2.197922e+12 | 1.948009e+12 | 1.121828e+13 | \n",
       "| 2015-12-31   | 5.817208e+12 | 4.271064e+12 | 1.546145e+12 | 5.023470e+12 | 4.841486e+12 | 181983470306 | 2.431269e+12 | 2.045768e+12 | 1.122619e+13 | \n",
       "| 2014-12-31   | 5.344122e+12 | 3.947950e+12 | 1.396172e+12 | 4.927496e+12 | 4.721351e+12 | 206145530960 | 2.524142e+12 | 2.261227e+12 | 1.053453e+13 | \n",
       "| 2013-12-31   | 4.847475e+12 | 3.546983e+12 | 1.300491e+12 | 4.552678e+12 | 4.372736e+12 | 179942436024 | 2.354264e+12 | 2.119392e+12 | 9.635026e+12 | \n",
       "| 2012-12-31   | 4.294971e+12 | 3.145220e+12 | 1.149750e+12 | 4.043513e+12 | 3.874966e+12 | 168547661996 | 2.175069e+12 | 1.943205e+12 | 8.570348e+12 | \n",
       "| 2011-12-31   | 3.730148e+12 | 2.732075e+12 | 9.980728e+11 | 3.611060e+12 | 3.399710e+12 | 211349602109 | 2.006309e+12 | 1.825414e+12 | 7.522103e+12 | \n",
       "\n",
       "\n"
      ],
      "text/plain": [
       "  Date       Final consumption expenditure\n",
       "1 2016-12-31 6.022740e+12                 \n",
       "2 2015-12-31 5.817208e+12                 \n",
       "3 2014-12-31 5.344122e+12                 \n",
       "4 2013-12-31 4.847475e+12                 \n",
       "5 2012-12-31 4.294971e+12                 \n",
       "6 2011-12-31 3.730148e+12                 \n",
       "  Household consumption expenditure (including Non-profit institutions serving households)\n",
       "1 4.412399e+12                                                                            \n",
       "2 4.271064e+12                                                                            \n",
       "3 3.947950e+12                                                                            \n",
       "4 3.546983e+12                                                                            \n",
       "5 3.145220e+12                                                                            \n",
       "6 2.732075e+12                                                                            \n",
       "  General government final consumption expenditure Gross capital formation\n",
       "1 1.610341e+12                                     4.945627e+12           \n",
       "2 1.546145e+12                                     5.023470e+12           \n",
       "3 1.396172e+12                                     4.927496e+12           \n",
       "4 1.300491e+12                                     4.552678e+12           \n",
       "5 1.149750e+12                                     4.043513e+12           \n",
       "6 9.980728e+11                                     3.611060e+12           \n",
       "  Gross fixed capital formation (including Acquisitions less disposals of valuables)\n",
       "1 4.760264e+12                                                                      \n",
       "2 4.841486e+12                                                                      \n",
       "3 4.721351e+12                                                                      \n",
       "4 4.372736e+12                                                                      \n",
       "5 3.874966e+12                                                                      \n",
       "6 3.399710e+12                                                                      \n",
       "  Changes in inventories Exports of goods and services\n",
       "1 185362869377           2.197922e+12                 \n",
       "2 181983470306           2.431269e+12                 \n",
       "3 206145530960           2.524142e+12                 \n",
       "4 179942436024           2.354264e+12                 \n",
       "5 168547661996           2.175069e+12                 \n",
       "6 211349602109           2.006309e+12                 \n",
       "  Imports of goods and services Gross Domestic Product (GDP)\n",
       "1 1.948009e+12                  1.121828e+13                \n",
       "2 2.045768e+12                  1.122619e+13                \n",
       "3 2.261227e+12                  1.053453e+13                \n",
       "4 2.119392e+12                  9.635026e+12                \n",
       "5 1.943205e+12                  8.570348e+12                \n",
       "6 1.825414e+12                  7.522103e+12                "
      ]
     },
     "metadata": {},
     "output_type": "display_data"
    }
   ],
   "source": [
    "library(Quandl)\n",
    "CNH=Quandl(\"UNAE/GDPCD_CHN\") #https://www.quandl.com/data/UNAE/GDPCD_CHN-GDP-Current-Prices-US-Dollars-China\n",
    "HKG=Quandl(\"UNAE/GDPCD_HKG\") #https://www.quandl.com/data/UNAE/GDPCD_HKG-GDP-Current-Prices-US-Dollars-China-Hong-Kong-SAR\n",
    "\n",
    "head(CNH)\n"
   ]
  },
  {
   "cell_type": "markdown",
   "metadata": {
    "slideshow": {
     "slide_type": "slide"
    }
   },
   "source": [
    "# Dynamic regression model\n",
    "\n",
    "$$\n",
    "y_t = \\beta_1 + \\beta_2 x_t + \\beta_3 x_{t-1} + \\gamma y_{t-1} + e_t\n",
    "$$"
   ]
  },
  {
   "cell_type": "markdown",
   "metadata": {
    "slideshow": {
     "slide_type": "fragment"
    }
   },
   "source": [
    "## Motivations\n",
    "\n",
    "* temporal lags of effect\n",
    "* expectation formed from the past\n",
    "* explicitly depends on history"
   ]
  },
  {
   "cell_type": "code",
   "execution_count": 3,
   "metadata": {
    "scrolled": true,
    "slideshow": {
     "slide_type": "subslide"
    }
   },
   "outputs": [
    {
     "data": {
      "text/html": [
       "'POILBREUSDQ'"
      ],
      "text/latex": [
       "'POILBREUSDQ'"
      ],
      "text/markdown": [
       "'POILBREUSDQ'"
      ],
      "text/plain": [
       "[1] \"POILBREUSDQ\""
      ]
     },
     "metadata": {},
     "output_type": "display_data"
    },
    {
     "data": {
      "text/html": [
       "'IPB50001SQ'"
      ],
      "text/latex": [
       "'IPB50001SQ'"
      ],
      "text/markdown": [
       "'IPB50001SQ'"
      ],
      "text/plain": [
       "[1] \"IPB50001SQ\""
      ]
     },
     "metadata": {},
     "output_type": "display_data"
    },
    {
     "data": {
      "image/png": "[encoded data removed]",
      "text/plain": [
       "plot without title"
      ]
     },
     "metadata": {},
     "output_type": "display_data"
    }
   ],
   "source": [
    "library(quantmod)\n",
    "getSymbols.FRED(Symbols = \"POILBREUSDQ\", env = .GlobalEnv) # Brent Oil price\n",
    "x = POILBREUSDQ; T = length(x)\n",
    "getSymbols.FRED(Symbols = \"IPB50001SQ\", env = .GlobalEnv) # Instrial Index (quaterly data)\n",
    "Ty = length(IPB50001SQ); y = IPB50001SQ[(Ty - T + 1):Ty]\n",
    "\n",
    "x = ts(x); y = ts(y)\n",
    "plot(cbind(y,x), main = \"\")"
   ]
  },
  {
   "cell_type": "markdown",
   "metadata": {
    "slideshow": {
     "slide_type": "subslide"
    }
   },
   "source": [
    "### ARDL(1,1) regression example"
   ]
  },
  {
   "cell_type": "code",
   "execution_count": 4,
   "metadata": {
    "slideshow": {
     "slide_type": "-"
    }
   },
   "outputs": [
    {
     "name": "stdout",
     "output_type": "stream",
     "text": [
      "\n",
      "Time series regression with \"ts\" data:\n",
      "Start = 3, End = 150\n",
      "\n",
      "Call:\n",
      "dynlm(formula = y ~ L(y, c(1)) + L(x, c(1:2)))\n",
      "\n",
      "Residuals:\n",
      "    Min      1Q  Median      3Q     Max \n",
      "-5.5015 -0.3181  0.1689  0.6214  1.8076 \n",
      "\n",
      "Coefficients:\n",
      "               Estimate Std. Error t value Pr(>|t|)    \n",
      "(Intercept)    0.485609   0.409017   1.187    0.237    \n",
      "L(y, c(1))     1.001323   0.005566 179.888   <2e-16 ***\n",
      "L(x, c(1:2))1 -0.019474   0.011192  -1.740    0.084 .  \n",
      "L(x, c(1:2))2  0.014260   0.011101   1.285    0.201    \n",
      "---\n",
      "Signif. codes:  0 '***' 0.001 '**' 0.01 '*' 0.05 '.' 0.1 ' ' 1\n",
      "\n",
      "Residual standard error: 1.051 on 144 degrees of freedom\n",
      "Multiple R-squared:  0.9969,\tAdjusted R-squared:  0.9968 \n",
      "F-statistic: 1.533e+04 on 3 and 144 DF,  p-value: < 2.2e-16\n",
      "\n"
     ]
    }
   ],
   "source": [
    "library(dynlm)\n",
    "reg = dynlm( y ~ L(y, c(1) ) + L(x,c(1:2) ) )  \n",
    "print(summary(reg))"
   ]
  },
  {
   "cell_type": "markdown",
   "metadata": {
    "slideshow": {
     "slide_type": "slide"
    }
   },
   "source": [
    "# Lagged Effect\n",
    "\n",
    "$$y_t = \\alpha + \\sum_{i=0}^{\\infty} \\beta_i  x_{t-i} + e_t$$\n",
    "\n",
    "## Interpretation as a generative model\n",
    "\n",
    "* Impact multiplier: $\\beta_0$\n",
    "* Cumulated effect (of $\\tau$ periods): $\\sum_{i=0}^{\\tau} \\beta_i $\n",
    "* Equilibrium multiplier: $\\sum_{i=0}^{\\infty} \\beta_i $"
   ]
  },
  {
   "cell_type": "markdown",
   "metadata": {
    "slideshow": {
     "slide_type": "slide"
    }
   },
   "source": [
    "# Lag Operator\n",
    "\n",
    "$$L x_t = x_{t-1}$$\n",
    "$$L^{\\tau} x_t = x_{t-\\tau}$$ \n",
    "\n",
    "## Difference operator\n",
    "$$\\Delta x_t = x_t - x_{t-1} = (1-L) x_t$$"
   ]
  },
  {
   "cell_type": "markdown",
   "metadata": {
    "slideshow": {
     "slide_type": "slide"
    }
   },
   "source": [
    "# Stationary time series\n",
    "\n",
    "For a univariate time series $(y_t)_{t= - \\infty} ^ {\\infty}$,\n",
    "* **Strictly stationary**: joint distribution of any finite coordinate only depends on their relative position.\n",
    "* **Weakly stationary**: the first two moments of any pair $y_t$ and $y_s$ only depends on their relative position.\n",
    "    * $E[y_t] = \\mu$ for all $t$\n",
    "    * $\\mathrm{var}[y_t] = \\sigma^2$ for all $t$\n",
    "    * $\\mathrm{cov}[y_t, y_{t+\\tau} ] $ only depends on $\\tau$ independent of $t$\n"
   ]
  },
  {
   "cell_type": "markdown",
   "metadata": {
    "slideshow": {
     "slide_type": "subslide"
    }
   },
   "source": [
    "\n",
    "This notion can be extended to multiple-variate time series, for example $(y_t, x_t, e_t)$."
   ]
  },
  {
   "cell_type": "markdown",
   "metadata": {
    "slideshow": {
     "slide_type": "slide"
    }
   },
   "source": [
    "## Dynamic regression model\n",
    "\n",
    "$$y_t = \\alpha + \\sum_{i=0}^{\\infty} \\beta_i  x_{t-i} + e_t = \\alpha + B(L) x_t + e_t $$\n",
    "where $$B(L) = \\sum_{i=0}^{\\infty} \\beta_i L^i$$ is a polynomial of the lag operators."
   ]
  },
  {
   "cell_type": "markdown",
   "metadata": {
    "slideshow": {
     "slide_type": "slide"
    }
   },
   "source": [
    "## Autoregressive model\n",
    "$$y_t = \\alpha + \\sum_{i=1}^p \\gamma_p y_{t-p} + e_t $$ can be written as \n",
    "$$ C(L) y_t = \\alpha + e_t $$ where $$C(L) = 1 -\\gamma_1 L - \\cdots - \\gamma_p L^p $$ is a polynomial of the lag operators."
   ]
  },
  {
   "cell_type": "markdown",
   "metadata": {
    "slideshow": {
     "slide_type": "slide"
    }
   },
   "source": [
    "# Invertibility\n",
    "\n",
    "If the roots of the polynomial equation $C(z) = 0$ **all** lies **outside** of the unit circle, we say the autoregressive model is invertible."
   ]
  },
  {
   "cell_type": "markdown",
   "metadata": {
    "slideshow": {
     "slide_type": "subslide"
    }
   },
   "source": [
    "More generally, in the polynomial equation $C(z) = 0$, the root with the smallest module determines the trend of the time series.\n",
    "\n",
    "If $e_t$ is stationary with finite variance and $\\alpha=0$\n",
    "* If the module of the smallest root is bigger than 1, $y_t$ is a stationary time series\n",
    "* If the module of the smallest root is equal to 1, $y_t$ is a **unit root** process\n",
    "* If the module of the smallest root is smaller than 1, $y_t$ is an **explosive** process"
   ]
  },
  {
   "cell_type": "markdown",
   "metadata": {
    "slideshow": {
     "slide_type": "slide"
    }
   },
   "source": [
    "\n",
    "### Numerical Example\n",
    "\n",
    "* $C(L) = 1 - 0.5L$ is invertible.\n",
    "* $C(L) = 1 - L$ is non-invertible.\n",
    "* $C(L) = 1 - 1.1L$ is non-invertible."
   ]
  },
  {
   "cell_type": "code",
   "execution_count": 2,
   "metadata": {
    "slideshow": {
     "slide_type": "fragment"
    }
   },
   "outputs": [],
   "source": [
    "AR = function(b,T){\n",
    "    y = rep(0,T)\n",
    "    for (t in 1:T){\n",
    "        if (t > 1) {\n",
    "            y[t] = b * y[t - 1] + rnorm(1)\n",
    "        }\n",
    "    }\n",
    "    return(ts(y) )\n",
    "}"
   ]
  },
  {
   "cell_type": "code",
   "execution_count": 8,
   "metadata": {
    "slideshow": {
     "slide_type": "subslide"
    }
   },
   "outputs": [
    {
     "data": {
      "image/png": "[encoded data removed]",
      "text/plain": [
       "plot without title"
      ]
     },
     "metadata": {},
     "output_type": "display_data"
    }
   ],
   "source": [
    "T = 1000; plot( x = 1:T, y = AR(0.9, T), type = \"l\")"
   ]
  },
  {
   "cell_type": "code",
   "execution_count": 5,
   "metadata": {
    "slideshow": {
     "slide_type": "subslide"
    }
   },
   "outputs": [
    {
     "data": {
      "image/png": "[encoded data removed]",
      "text/plain": [
       "plot without title"
      ]
     },
     "metadata": {},
     "output_type": "display_data"
    }
   ],
   "source": [
    "T = 200; plot( x = 1:T, y = AR(1.0, T), type = \"l\")"
   ]
  },
  {
   "cell_type": "code",
   "execution_count": 7,
   "metadata": {
    "slideshow": {
     "slide_type": "subslide"
    }
   },
   "outputs": [
    {
     "data": {
      "image/png": "[encoded data removed]",
      "text/plain": [
       "plot without title"
      ]
     },
     "metadata": {},
     "output_type": "display_data"
    }
   ],
   "source": [
    "T = 200; plot( x = 1:T, y = AR(1.05,T), type = \"l\")"
   ]
  },
  {
   "cell_type": "markdown",
   "metadata": {
    "slideshow": {
     "slide_type": "slide"
    }
   },
   "source": [
    "# Autoregressive Distributed Lag Models\n",
    "\n",
    "\n",
    "ARDL(p,r) model:\n",
    "$$C(L) y_t = \\mu + B(L) x_t + e_t $$ \n",
    "where \n",
    "$$C(L) = 1 -\\gamma_1 L - \\cdots - \\gamma_p L^p$$\n",
    "and \n",
    "$$B(L) =  \\beta_0 + \\beta_1 L + \\cdots + \\beta_r L^r.$$\n",
    "\n",
    "**Granger causality**: $\\beta_0 = \\beta_1 = \\cdots = \\beta_r = 0$."
   ]
  },
  {
   "cell_type": "markdown",
   "metadata": {
    "slideshow": {
     "slide_type": "slide"
    }
   },
   "source": [
    "# Error Correction Model\n",
    "\n",
    "Cliver Granger (Nobel prize 2001)\n",
    "\n",
    "Subtract $y_{t-1}$ from both sides of the ARDL(1,1) model\n",
    "$$\n",
    "\\begin{align*}\n",
    "\\Delta y_t & = \\mu + \\beta_0 x_t + \\beta_1 x_{t-1} + (\\gamma_1 -1 ) y_{t-1} + e_t  \\\\\n",
    "           & = \\mu + \\beta_0 \\Delta x_t + (\\beta_1 + \\beta_0) x_{t-1} + (\\gamma_1 -1 ) y_{t-1} + e_t  \\\\\n",
    "           & = \\mu + \\beta_0 \\Delta x_t + (\\gamma_1 -1 )( y_{t-1} - \\theta x_{t-1} ) + e_t  \n",
    "\\end{align*}\n",
    "$$\n",
    "where $\\theta =  (\\beta_1 + \\beta_0)/(1 - \\gamma_1)$.\n",
    "\n",
    "* An equilibrium relationship $\\Delta y_t = \\mu + \\beta_0 \\Delta x_t + e_t$.\n",
    "* An equilibrium error $(\\gamma_1 - 1 ) (y_{t-1} - \\theta x_{t-1} ) $.\n",
    "\n"
   ]
  },
  {
   "cell_type": "markdown",
   "metadata": {
    "slideshow": {
     "slide_type": "subslide"
    }
   },
   "source": [
    "* Useful to identify spurious regression\n",
    "* First difference recovers stationarity\n",
    "\n",
    "* Can be estimated either by OLS or by NLS or by MLE"
   ]
  },
  {
   "cell_type": "markdown",
   "metadata": {
    "slideshow": {
     "slide_type": "slide"
    }
   },
   "source": [
    "\n",
    "# Spurious Regression\n",
    "\n",
    "\n",
    "* The two time series $\\{y_t\\}$ and $\\{x_t\\}$ are generated independently, so that $E[y_t|x_t] = 0$. \n",
    "* However, we observe a high $R^2$ and large t-value if we regression $y_t$ against $x_t$.\n"
   ]
  },
  {
   "cell_type": "code",
   "execution_count": 13,
   "metadata": {
    "scrolled": false,
    "slideshow": {
     "slide_type": "subslide"
    }
   },
   "outputs": [
    {
     "data": {
      "image/png": "[encoded data removed]",
      "text/plain": [
       "plot without title"
      ]
     },
     "metadata": {},
     "output_type": "display_data"
    }
   ],
   "source": [
    "T = 50\n",
    "a = 1\n",
    "\n",
    "y <- AR(a, T)\n",
    "x <- AR(a, T)\n",
    "matplot( cbind(y, x), type = \"l\", ylab = \"\" )"
   ]
  },
  {
   "cell_type": "code",
   "execution_count": 14,
   "metadata": {
    "scrolled": false,
    "slideshow": {
     "slide_type": "subslide"
    }
   },
   "outputs": [
    {
     "data": {
      "text/plain": [
       "\n",
       "Call:\n",
       "lm(formula = y ~ x)\n",
       "\n",
       "Residuals:\n",
       "    Min      1Q  Median      3Q     Max \n",
       "-3.0938 -0.6179  0.2886  0.8370  1.7110 \n",
       "\n",
       "Coefficients:\n",
       "            Estimate Std. Error t value Pr(>|t|)    \n",
       "(Intercept)  -1.1299     0.2979  -3.793 0.000416 ***\n",
       "x             0.3758     0.1155   3.255 0.002084 ** \n",
       "---\n",
       "Signif. codes:  0 '***' 0.001 '**' 0.01 '*' 0.05 '.' 0.1 ' ' 1\n",
       "\n",
       "Residual standard error: 1.084 on 48 degrees of freedom\n",
       "Multiple R-squared:  0.1808,\tAdjusted R-squared:  0.1637 \n",
       "F-statistic: 10.59 on 1 and 48 DF,  p-value: 0.002084\n"
      ]
     },
     "metadata": {},
     "output_type": "display_data"
    }
   ],
   "source": [
    "reg <- lm(y ~ x)\n",
    "summary(reg)"
   ]
  },
  {
   "cell_type": "markdown",
   "metadata": {
    "slideshow": {
     "slide_type": "slide"
    }
   },
   "source": [
    "Granger and Newbold (1974)\n",
    "\n",
    "run a regression to check that if we naively use 1.96 as the critical value for the $t$-ratio, how often we would reject the null hypothesis that $\\beta = 0$. \n",
    "\n",
    "* The nominal asymptotic test size is $5\\%$ according to the standard asymptotic theory\n",
    "* The empirical size is about 0.80 in this simulation\n",
    "* The drastic deviation suggests that the standard asymptotic theory fails in the nonstationary environment.\n"
   ]
  },
  {
   "cell_type": "code",
   "execution_count": 16,
   "metadata": {
    "slideshow": {
     "slide_type": "subslide"
    }
   },
   "outputs": [
    {
     "name": "stdout",
     "output_type": "stream",
     "text": [
      "[1] 0.749\n"
     ]
    }
   ],
   "source": [
    "spurious <- function(i, a, T){\n",
    "    y <- AR(a, T)\n",
    "    x <- AR(a, T)\n",
    "    \n",
    "    reg <- lm(y ~ x)\n",
    "    p.val <- summary(reg)[[4]][2,4]\n",
    "    # save the p-value of the estimate of x's coefficient\n",
    "    return(p.val)\n",
    "}\n",
    "\n",
    "library(\"plyr\")\n",
    "out <- ldply(.data = 1:1000, .fun = spurious, a = 1, T = 100)\n",
    "print( mean(out < 0.05) )"
   ]
  },
  {
   "cell_type": "markdown",
   "metadata": {
    "slideshow": {
     "slide_type": "slide"
    }
   },
   "source": [
    "# Model Specification\n",
    "\n",
    "Information criterion. \n",
    "\n",
    "Let $k$ be the total number of slope coefficient in the model.\n",
    "\n",
    "* Akaike information criterion: $\\log( \\hat{\\sigma}^2 ) + 2\\times (k / T )$. \n",
    "    * Tend to overfit, but better for prediction\n",
    "* Bayesian information criterion: $\\log( \\hat{\\sigma}^2 ) + \\log(T) \\times (k / T )$\n",
    "    * Model selection consistent"
   ]
  },
  {
   "cell_type": "markdown",
   "metadata": {
    "slideshow": {
     "slide_type": "slide"
    }
   },
   "source": [
    "# Seasonality\n",
    "\n",
    "* Generated due to sampling frequency\n",
    "* Add dummies to control seasonality\n",
    "* How many dummies?"
   ]
  },
  {
   "cell_type": "markdown",
   "metadata": {
    "slideshow": {
     "slide_type": "slide"
    }
   },
   "source": [
    "# Vector Autoregression (VAR)\n",
    "\n",
    "Christopher Sims (Nobel Prize 2011)\n",
    "\n",
    "An $m$-equation system\n",
    "$$ y_t = \\mu + \\Gamma_1 y_t + \\cdots + \\Gamma_p y_{t-p} + v_t $$\n",
    "where $E[ v_t v_t'] = \\Omega$.\n",
    "\n",
    "For prediction purpose, as a reduced-form of structural simultaneous equations."
   ]
  },
  {
   "cell_type": "markdown",
   "metadata": {
    "slideshow": {
     "slide_type": "subslide"
    }
   },
   "source": [
    "### Estimation\n",
    "\n",
    "* For consistency and asymptotic normality, use OLS equation by equation\n",
    "* For asymptotic efficient, use multiple-equation GLS\n",
    "\n"
   ]
  },
  {
   "cell_type": "markdown",
   "metadata": {
    "slideshow": {
     "slide_type": "skip"
    }
   },
   "source": [
    "# Invertibility\n",
    "\n",
    "Write the VAR(p) as\n",
    "$$ (I_m - \\Gamma (L) ) y_t = \\mu + v_t $$ \n",
    "where $\\Gamma(z) = \\Gamma_1 z + \\cdots + \\Gamma_p z^p$. \n",
    "\n",
    "Stable means that all roots of the $p$th order polynomial equation $$ I_m - \\Gamma(z)  = 0_m $$ lies out of the unit circle."
   ]
  },
  {
   "cell_type": "markdown",
   "metadata": {
    "slideshow": {
     "slide_type": "slide"
    }
   },
   "source": [
    "# Impulse Response Function\n",
    "\n",
    "IRF characterizes the diffusion of an exogenous shock with the dynamic system.\n",
    "\n",
    "$$\n",
    "\\begin{align*}\n",
    "y_t & = (I_m - \\Gamma(L) )^{-1} (\\mu + v_t) \\\\\n",
    "    & = \\bar{y} + v_t + \\sum_{i=1}^{\\infty} A_i v_{t-i} \n",
    "\\end{align*}\n",
    "$$ where $\\bar{y} = (I_m - \\Gamma(L) )^{-1} \\mu = ( I_m + \\sum_{i=1}^{\\infty} A_i ) \\mu $."
   ]
  },
  {
   "cell_type": "code",
   "execution_count": 12,
   "metadata": {
    "slideshow": {
     "slide_type": "slide"
    }
   },
   "outputs": [
    {
     "data": {
      "image/png": "[encoded data removed]",
      "text/plain": [
       "plot without title"
      ]
     },
     "metadata": {},
     "output_type": "display_data"
    }
   ],
   "source": [
    "library(tsDyn)\n",
    "data(barry)\n",
    "plot(barry)"
   ]
  },
  {
   "cell_type": "code",
   "execution_count": 13,
   "metadata": {
    "slideshow": {
     "slide_type": "subslide"
    }
   },
   "outputs": [
    {
     "name": "stdout",
     "output_type": "stream",
     "text": [
      "                 Intercept dolcan -1    cpiUSA -1     cpiCAN -1  dolcan -2\n",
      "Equation dolcan 0.01990322 1.1399804 -0.004066429 -0.0002021078 -0.1609825\n",
      "Equation cpiUSA 0.24882495 0.5057742  1.473457565 -0.0339894803 -0.5695014\n",
      "Equation cpiCAN 0.18849724 0.3767774  0.311281524  0.9816315731 -0.2280215\n",
      "                   cpiUSA -2     cpiCAN -2\n",
      "Equation dolcan  0.004722663 -0.0003366803\n",
      "Equation cpiUSA -0.474160066  0.0342943942\n",
      "Equation cpiCAN -0.316325397  0.0206687371\n"
     ]
    }
   ],
   "source": [
    "## For VAR\n",
    "mod_var <- lineVar(barry, lag = 2)\n",
    "print(mod_var)"
   ]
  },
  {
   "cell_type": "code",
   "execution_count": 14,
   "metadata": {
    "slideshow": {
     "slide_type": "subslide"
    }
   },
   "outputs": [
    {
     "name": "stdout",
     "output_type": "stream",
     "text": [
      "\n",
      "Impulse response coefficients\n",
      "$dolcan\n",
      "          dolcan        cpiUSA        cpiCAN\n",
      " [1,] 0.01263041 -0.0048261838 -0.0123959584\n",
      " [2,] 0.01442056 -0.0003017074 -0.0089117109\n",
      " [3,] 0.01439029  0.0018221283 -0.0050181633\n",
      " [4,] 0.01407837  0.0017585360 -0.0023138114\n",
      " [5,] 0.01373609  0.0005588836 -0.0003808992\n",
      " [6,] 0.01339939 -0.0011470315  0.0011612521\n",
      " [7,] 0.01307097 -0.0030532930  0.0025146740\n",
      " [8,] 0.01274968 -0.0050206825  0.0037743835\n",
      " [9,] 0.01243458 -0.0069875398  0.0049833475\n",
      "[10,] 0.01212512 -0.0089270518  0.0061607665\n",
      "[11,] 0.01182103 -0.0108278553  0.0073152342\n",
      "\n"
     ]
    }
   ],
   "source": [
    "\n",
    "irf_var = irf(mod_var, impulse = \"dolcan\", response = c(\"dolcan\", \"cpiUSA\", \"cpiCAN\"), boot = FALSE)\n",
    "print(irf_var)"
   ]
  },
  {
   "cell_type": "code",
   "execution_count": 15,
   "metadata": {
    "slideshow": {
     "slide_type": "subslide"
    }
   },
   "outputs": [
    {
     "name": "stdout",
     "output_type": "stream",
     "text": [
      "                       ECT1          ECT2  Intercept dolcan -1    cpiUSA -1\n",
      "Equation dolcan -0.02042246  0.0005673094 0.02193776 0.1631849 -0.003512162\n",
      "Equation cpiUSA -0.05190423  0.0013970958 0.20996826 0.6604052  0.472999555\n",
      "Equation cpiCAN  0.12661059 -0.0036778683 0.15127295 0.3462574  0.282921542\n",
      "                    cpiCAN -1   dolcan -2    cpiUSA -2    cpiCAN -2\n",
      "Equation dolcan  0.0004160986 -0.03139173 -0.000241599 -0.006599772\n",
      "Equation cpiUSA -0.0325415257 -0.56714589 -0.025142321  0.076688519\n",
      "Equation cpiCAN -0.0260677455 -0.33043721  0.013968232  0.170121385\n",
      "\n",
      "Impulse response coefficients\n",
      "$dolcan\n",
      "          dolcan        cpiUSA        cpiCAN\n",
      " [1,] 0.01254489 -0.0029302360 -7.383446e-03\n",
      " [2,] 0.01434484  0.0035655133 -2.087037e-03\n",
      " [3,] 0.01398363 -0.0006891768 -3.406078e-03\n",
      " [4,] 0.01356168 -0.0043964840 -2.535065e-03\n",
      " [5,] 0.01324901 -0.0069522987 -2.187395e-03\n",
      " [6,] 0.01294200 -0.0086735230 -1.091890e-03\n",
      " [7,] 0.01263782 -0.0101398959  8.207361e-05\n",
      " [8,] 0.01233276 -0.0114414225  1.432537e-03\n",
      " [9,] 0.01203124 -0.0126614792  2.808676e-03\n",
      "[10,] 0.01173367 -0.0138198949  4.209197e-03\n",
      "[11,] 0.01144100 -0.0149378777  5.600684e-03\n",
      "\n"
     ]
    }
   ],
   "source": [
    "\n",
    "## For VECM\n",
    "mod_VECM <- VECM(barry, lag = 2, estim=\"ML\", r=2)\n",
    "print(mod_VECM)\n",
    "irf_vecm = irf(mod_VECM, impulse = \"dolcan\", response = c(\"dolcan\", \"cpiUSA\", \"cpiCAN\"), boot = FALSE)\n",
    "print(irf_vecm)"
   ]
  },
  {
   "cell_type": "markdown",
   "metadata": {
    "slideshow": {
     "slide_type": "slide"
    }
   },
   "source": [
    "# Structural VAR\n",
    "\n",
    "* Unrestricted VAR: too many parameters? $m+p\\cdot m^2 + m(m+1)/2$\n",
    "* Use economic theory to reduce the number of unknown parameters"
   ]
  }
 ],
 "metadata": {
  "celltoolbar": "Slideshow",
  "kernel_info": {
   "name": "ir"
  },
  "kernelspec": {
   "display_name": "R",
   "language": "R",
   "name": "ir"
  },
  "language_info": {
   "codemirror_mode": "r",
   "file_extension": ".r",
   "mimetype": "text/x-r-source",
   "name": "R",
   "pygments_lexer": "r",
   "version": "3.5.0"
  },
  "nteract": {
   "version": "0.12.3"
  }
 },
 "nbformat": 4,
 "nbformat_minor": 2
}
