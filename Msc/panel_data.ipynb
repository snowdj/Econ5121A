{
 "cells": [
  {
   "cell_type": "markdown",
   "metadata": {
    "slideshow": {
     "slide_type": "slide"
    }
   },
   "source": [
    "# Pooled Cross Sections\n",
    "\n",
    "* Policy evaluation\n",
    "* Collected across time, but not necessarily the same individual"
   ]
  },
  {
   "cell_type": "markdown",
   "metadata": {
    "slideshow": {
     "slide_type": "slide"
    }
   },
   "source": [
    "# Difference-in-Difference\n",
    "\n",
    "* Example: the opening of MTR station\n",
    "* HKU station was open in Dec, 2014\n",
    "* Control group: HKUST\n",
    " "
   ]
  },
  {
   "cell_type": "markdown",
   "metadata": {
    "slideshow": {
     "slide_type": "fragment"
    }
   },
   "source": [
    "1. Analysis of the grouped average\n",
    "2. Regression analysis\n",
    "\n",
    "$$y = \\beta_1 + \\beta_2 d_{ust} + \\beta_3 d_{hku} + \\beta_4 d_{ust} \\times d_{hku} + e$$\n",
    "* Variables indexed by $i$ and $t$\n",
    "* Convenience of the latter approach: statistical inference and covariate control"
   ]
  },
  {
   "cell_type": "markdown",
   "metadata": {
    "slideshow": {
     "slide_type": "slide"
    }
   },
   "source": [
    "# Panel Data\n",
    "\n",
    "\n",
    "* Economists mostly work with observational data. \n",
    "* The data generation process is out of the researchers' control.\n",
    "* Difficult to control heterogeneity among the individuals in cross-sectional data.\n",
    "* panel data offers a chance"
   ]
  },
  {
   "cell_type": "markdown",
   "metadata": {
    "slideshow": {
     "slide_type": "slide"
    }
   },
   "source": [
    "* Panel data track the same individuals across time $t=1,\\ldots,T$.\n",
    "* assume the observations are independent across $i=1,\\ldots,n$,\n",
    "* allow of dependence for $i$ across $t=1,\\ldots,T$. "
   ]
  },
  {
   "cell_type": "markdown",
   "metadata": {
    "slideshow": {
     "slide_type": "slide"
    }
   },
   "source": [
    "# Linear Equation\n",
    "$$y_{it}=\\beta_{1}+x_{it}\\beta_{2}+u_{it},\\ i=1,\\ldots,n;t=1,\\ldots,T\\label{eq:basic_eq}$$\n",
    "\n",
    "* **composite error**:  $u_{it}=\\alpha_{i}+\\epsilon_{it}$ is called the.\n",
    "* $\\alpha_{i}$ is ime-invariant unobserved heterogeneity\n",
    "* $\\epsilon_{it}$ varies across individuals and time periods."
   ]
  },
  {
   "cell_type": "markdown",
   "metadata": {
    "slideshow": {
     "slide_type": "fragment"
    }
   },
   "source": [
    "# Motivating Example\n",
    "\n",
    "* Air pollution at city level\n",
    "\n",
    "$$\\mathrm{PM2.5}_{it}= \\alpha_i + \\beta_1 \\mathrm{GdpGrwoth}_{it} + \\beta_2' \\mathrm{OtherControls}_{it} + e_{it}$$\n",
    "\n",
    "\n",
    "\n",
    "* $\\alpha_i$ is used to control the geographic composition"
   ]
  },
  {
   "cell_type": "markdown",
   "metadata": {
    "slideshow": {
     "slide_type": "slide"
    }
   },
   "source": [
    "# Real Data Example\n",
    "\n",
    "* a dataset from [NBER-CES Manufacturing Industry Database](http://www.nber.org/nberces/). \n",
    "* contains annual information of 473 USA industries during 1958 to 2009.  "
   ]
  },
  {
   "cell_type": "code",
   "execution_count": 1,
   "metadata": {
    "slideshow": {
     "slide_type": "slide"
    }
   },
   "outputs": [
    {
     "data": {
      "text/html": [
       "<table>\n",
       "<thead><tr><th></th><th scope=col>naics</th><th scope=col>year</th><th scope=col>emp</th><th scope=col>pay</th><th scope=col>prode</th><th scope=col>prodh</th><th scope=col>prodw</th><th scope=col>vship</th><th scope=col>matcost</th><th scope=col>vadd</th></tr></thead>\n",
       "<tbody>\n",
       "\t<tr><th scope=row>1</th><td>311111 </td><td>1958   </td><td>18.0   </td><td> 81.3  </td><td>12.0   </td><td>25.7   </td><td> 49.8  </td><td> 1042.4</td><td> 752.4 </td><td> 266.9 </td></tr>\n",
       "\t<tr><th scope=row>2</th><td>311111 </td><td>1959   </td><td>17.9   </td><td> 82.5  </td><td>11.8   </td><td>25.5   </td><td> 49.4  </td><td> 1051.0</td><td> 758.9 </td><td> 268.7 </td></tr>\n",
       "\t<tr><th scope=row>3</th><td>311111 </td><td>1960   </td><td>17.7   </td><td> 84.8  </td><td>11.7   </td><td>25.4   </td><td> 50.0  </td><td> 1050.2</td><td> 752.8 </td><td> 269.9 </td></tr>\n",
       "\t<tr><th scope=row>4</th><td>311111 </td><td>1961   </td><td>17.5   </td><td> 87.4  </td><td>11.5   </td><td>25.4   </td><td> 51.4  </td><td> 1119.7</td><td> 803.6 </td><td> 287.8 </td></tr>\n",
       "\t<tr><th scope=row>5</th><td>311111 </td><td>1962   </td><td>17.6   </td><td> 90.2  </td><td>11.5   </td><td>25.2   </td><td> 52.1  </td><td> 1175.7</td><td> 853.3 </td><td> 294.5 </td></tr>\n",
       "\t<tr><th scope=row>6</th><td>311111 </td><td>1963   </td><td>17.1   </td><td> 89.8  </td><td>11.0   </td><td>23.9   </td><td> 52.1  </td><td> 1249.1</td><td> 893.6 </td><td> 328.7 </td></tr>\n",
       "\t<tr><th scope=row>7</th><td>311111 </td><td>1964   </td><td>16.6   </td><td> 90.8  </td><td>10.6   </td><td>23.5   </td><td> 52.2  </td><td> 1245.6</td><td> 890.2 </td><td> 326.8 </td></tr>\n",
       "\t<tr><th scope=row>8</th><td>311111 </td><td>1965   </td><td>16.0   </td><td> 90.8  </td><td>10.2   </td><td>22.7   </td><td> 51.8  </td><td> 1283.5</td><td> 928.1 </td><td> 324.7 </td></tr>\n",
       "\t<tr><th scope=row>9</th><td>311111 </td><td>1966   </td><td>16.1   </td><td> 96.1  </td><td>10.2   </td><td>22.6   </td><td> 53.9  </td><td> 1428.8</td><td>1049.9 </td><td> 344.8 </td></tr>\n",
       "\t<tr><th scope=row>10</th><td>311111 </td><td>1967   </td><td>16.7   </td><td>105.0  </td><td>11.0   </td><td>23.9   </td><td> 61.3  </td><td> 1544.1</td><td>1101.6 </td><td> 410.0 </td></tr>\n",
       "\t<tr><th scope=row>50</th><td>311111 </td><td>2007   </td><td>17.0   </td><td>792.9  </td><td>13.1   </td><td>28.3   </td><td>553.0  </td><td>14390.2</td><td>6917.4 </td><td>7523.4 </td></tr>\n",
       "\t<tr><th scope=row>51</th><td>311111 </td><td>2008   </td><td>16.7   </td><td>809.1  </td><td>12.8   </td><td>27.6   </td><td>561.6  </td><td>16997.8</td><td>7923.0 </td><td>9077.1 </td></tr>\n",
       "\t<tr><th scope=row>52</th><td>311111 </td><td>2009   </td><td>17.1   </td><td>882.0  </td><td>13.0   </td><td>27.7   </td><td>620.5  </td><td>19691.0</td><td>9776.6 </td><td>9893.6 </td></tr>\n",
       "\t<tr><th scope=row>53</th><td>311119 </td><td>1958   </td><td>39.2   </td><td>170.6  </td><td>25.9   </td><td>55.5   </td><td>101.8  </td><td> 2194.1</td><td>1690.9 </td><td> 531.5 </td></tr>\n",
       "\t<tr><th scope=row>54</th><td>311119 </td><td>1959   </td><td>38.9   </td><td>173.2  </td><td>25.4   </td><td>54.9   </td><td>101.1  </td><td> 2212.1</td><td>1705.5 </td><td> 534.8 </td></tr>\n",
       "\t<tr><th scope=row>55</th><td>311119 </td><td>1960   </td><td>38.6   </td><td>178.0  </td><td>25.1   </td><td>54.5   </td><td>102.5  </td><td> 2210.3</td><td>1691.7 </td><td> 537.3 </td></tr>\n",
       "\t<tr><th scope=row>56</th><td>311119 </td><td>1961   </td><td>38.2   </td><td>183.4  </td><td>24.8   </td><td>54.8   </td><td>105.4  </td><td> 2356.7</td><td>1805.9 </td><td> 573.1 </td></tr>\n",
       "\t<tr><th scope=row>57</th><td>311119 </td><td>1962   </td><td>38.5   </td><td>189.2  </td><td>24.8   </td><td>54.1   </td><td>106.8  </td><td> 2474.4</td><td>1917.9 </td><td> 586.4 </td></tr>\n",
       "\t<tr><th scope=row>58</th><td>311119 </td><td>1963   </td><td>37.4   </td><td>188.4  </td><td>23.5   </td><td>51.6   </td><td>106.7  </td><td> 2628.7</td><td>2008.3 </td><td> 654.4 </td></tr>\n",
       "\t<tr><th scope=row>59</th><td>311119 </td><td>1964   </td><td>36.1   </td><td>190.4  </td><td>22.9   </td><td>50.6   </td><td>107.0  </td><td> 2621.7</td><td>2000.8 </td><td> 650.7 </td></tr>\n",
       "\t<tr><th scope=row>60</th><td>311119 </td><td>1965   </td><td>35.1   </td><td>190.6  </td><td>21.8   </td><td>48.9   </td><td>106.1  </td><td> 2701.3</td><td>2086.0 </td><td> 646.3 </td></tr>\n",
       "</tbody>\n",
       "</table>\n"
      ],
      "text/latex": [
       "\\begin{tabular}{r|llllllllll}\n",
       "  & naics & year & emp & pay & prode & prodh & prodw & vship & matcost & vadd\\\\\n",
       "\\hline\n",
       "\t1 & 311111  & 1958    & 18.0    &  81.3   & 12.0    & 25.7    &  49.8   &  1042.4 &  752.4  &  266.9 \\\\\n",
       "\t2 & 311111  & 1959    & 17.9    &  82.5   & 11.8    & 25.5    &  49.4   &  1051.0 &  758.9  &  268.7 \\\\\n",
       "\t3 & 311111  & 1960    & 17.7    &  84.8   & 11.7    & 25.4    &  50.0   &  1050.2 &  752.8  &  269.9 \\\\\n",
       "\t4 & 311111  & 1961    & 17.5    &  87.4   & 11.5    & 25.4    &  51.4   &  1119.7 &  803.6  &  287.8 \\\\\n",
       "\t5 & 311111  & 1962    & 17.6    &  90.2   & 11.5    & 25.2    &  52.1   &  1175.7 &  853.3  &  294.5 \\\\\n",
       "\t6 & 311111  & 1963    & 17.1    &  89.8   & 11.0    & 23.9    &  52.1   &  1249.1 &  893.6  &  328.7 \\\\\n",
       "\t7 & 311111  & 1964    & 16.6    &  90.8   & 10.6    & 23.5    &  52.2   &  1245.6 &  890.2  &  326.8 \\\\\n",
       "\t8 & 311111  & 1965    & 16.0    &  90.8   & 10.2    & 22.7    &  51.8   &  1283.5 &  928.1  &  324.7 \\\\\n",
       "\t9 & 311111  & 1966    & 16.1    &  96.1   & 10.2    & 22.6    &  53.9   &  1428.8 & 1049.9  &  344.8 \\\\\n",
       "\t10 & 311111  & 1967    & 16.7    & 105.0   & 11.0    & 23.9    &  61.3   &  1544.1 & 1101.6  &  410.0 \\\\\n",
       "\t50 & 311111  & 2007    & 17.0    & 792.9   & 13.1    & 28.3    & 553.0   & 14390.2 & 6917.4  & 7523.4 \\\\\n",
       "\t51 & 311111  & 2008    & 16.7    & 809.1   & 12.8    & 27.6    & 561.6   & 16997.8 & 7923.0  & 9077.1 \\\\\n",
       "\t52 & 311111  & 2009    & 17.1    & 882.0   & 13.0    & 27.7    & 620.5   & 19691.0 & 9776.6  & 9893.6 \\\\\n",
       "\t53 & 311119  & 1958    & 39.2    & 170.6   & 25.9    & 55.5    & 101.8   &  2194.1 & 1690.9  &  531.5 \\\\\n",
       "\t54 & 311119  & 1959    & 38.9    & 173.2   & 25.4    & 54.9    & 101.1   &  2212.1 & 1705.5  &  534.8 \\\\\n",
       "\t55 & 311119  & 1960    & 38.6    & 178.0   & 25.1    & 54.5    & 102.5   &  2210.3 & 1691.7  &  537.3 \\\\\n",
       "\t56 & 311119  & 1961    & 38.2    & 183.4   & 24.8    & 54.8    & 105.4   &  2356.7 & 1805.9  &  573.1 \\\\\n",
       "\t57 & 311119  & 1962    & 38.5    & 189.2   & 24.8    & 54.1    & 106.8   &  2474.4 & 1917.9  &  586.4 \\\\\n",
       "\t58 & 311119  & 1963    & 37.4    & 188.4   & 23.5    & 51.6    & 106.7   &  2628.7 & 2008.3  &  654.4 \\\\\n",
       "\t59 & 311119  & 1964    & 36.1    & 190.4   & 22.9    & 50.6    & 107.0   &  2621.7 & 2000.8  &  650.7 \\\\\n",
       "\t60 & 311119  & 1965    & 35.1    & 190.6   & 21.8    & 48.9    & 106.1   &  2701.3 & 2086.0  &  646.3 \\\\\n",
       "\\end{tabular}\n"
      ],
      "text/markdown": [
       "\n",
       "| <!--/--> | naics | year | emp | pay | prode | prodh | prodw | vship | matcost | vadd | \n",
       "|---|---|---|---|---|---|---|---|---|---|---|---|---|---|---|---|---|---|---|---|---|\n",
       "| 1 | 311111  | 1958    | 18.0    |  81.3   | 12.0    | 25.7    |  49.8   |  1042.4 |  752.4  |  266.9  | \n",
       "| 2 | 311111  | 1959    | 17.9    |  82.5   | 11.8    | 25.5    |  49.4   |  1051.0 |  758.9  |  268.7  | \n",
       "| 3 | 311111  | 1960    | 17.7    |  84.8   | 11.7    | 25.4    |  50.0   |  1050.2 |  752.8  |  269.9  | \n",
       "| 4 | 311111  | 1961    | 17.5    |  87.4   | 11.5    | 25.4    |  51.4   |  1119.7 |  803.6  |  287.8  | \n",
       "| 5 | 311111  | 1962    | 17.6    |  90.2   | 11.5    | 25.2    |  52.1   |  1175.7 |  853.3  |  294.5  | \n",
       "| 6 | 311111  | 1963    | 17.1    |  89.8   | 11.0    | 23.9    |  52.1   |  1249.1 |  893.6  |  328.7  | \n",
       "| 7 | 311111  | 1964    | 16.6    |  90.8   | 10.6    | 23.5    |  52.2   |  1245.6 |  890.2  |  326.8  | \n",
       "| 8 | 311111  | 1965    | 16.0    |  90.8   | 10.2    | 22.7    |  51.8   |  1283.5 |  928.1  |  324.7  | \n",
       "| 9 | 311111  | 1966    | 16.1    |  96.1   | 10.2    | 22.6    |  53.9   |  1428.8 | 1049.9  |  344.8  | \n",
       "| 10 | 311111  | 1967    | 16.7    | 105.0   | 11.0    | 23.9    |  61.3   |  1544.1 | 1101.6  |  410.0  | \n",
       "| 50 | 311111  | 2007    | 17.0    | 792.9   | 13.1    | 28.3    | 553.0   | 14390.2 | 6917.4  | 7523.4  | \n",
       "| 51 | 311111  | 2008    | 16.7    | 809.1   | 12.8    | 27.6    | 561.6   | 16997.8 | 7923.0  | 9077.1  | \n",
       "| 52 | 311111  | 2009    | 17.1    | 882.0   | 13.0    | 27.7    | 620.5   | 19691.0 | 9776.6  | 9893.6  | \n",
       "| 53 | 311119  | 1958    | 39.2    | 170.6   | 25.9    | 55.5    | 101.8   |  2194.1 | 1690.9  |  531.5  | \n",
       "| 54 | 311119  | 1959    | 38.9    | 173.2   | 25.4    | 54.9    | 101.1   |  2212.1 | 1705.5  |  534.8  | \n",
       "| 55 | 311119  | 1960    | 38.6    | 178.0   | 25.1    | 54.5    | 102.5   |  2210.3 | 1691.7  |  537.3  | \n",
       "| 56 | 311119  | 1961    | 38.2    | 183.4   | 24.8    | 54.8    | 105.4   |  2356.7 | 1805.9  |  573.1  | \n",
       "| 57 | 311119  | 1962    | 38.5    | 189.2   | 24.8    | 54.1    | 106.8   |  2474.4 | 1917.9  |  586.4  | \n",
       "| 58 | 311119  | 1963    | 37.4    | 188.4   | 23.5    | 51.6    | 106.7   |  2628.7 | 2008.3  |  654.4  | \n",
       "| 59 | 311119  | 1964    | 36.1    | 190.4   | 22.9    | 50.6    | 107.0   |  2621.7 | 2000.8  |  650.7  | \n",
       "| 60 | 311119  | 1965    | 35.1    | 190.6   | 21.8    | 48.9    | 106.1   |  2701.3 | 2086.0  |  646.3  | \n",
       "\n",
       "\n"
      ],
      "text/plain": [
       "   naics  year emp  pay   prode prodh prodw vship   matcost vadd  \n",
       "1  311111 1958 18.0  81.3 12.0  25.7   49.8  1042.4  752.4   266.9\n",
       "2  311111 1959 17.9  82.5 11.8  25.5   49.4  1051.0  758.9   268.7\n",
       "3  311111 1960 17.7  84.8 11.7  25.4   50.0  1050.2  752.8   269.9\n",
       "4  311111 1961 17.5  87.4 11.5  25.4   51.4  1119.7  803.6   287.8\n",
       "5  311111 1962 17.6  90.2 11.5  25.2   52.1  1175.7  853.3   294.5\n",
       "6  311111 1963 17.1  89.8 11.0  23.9   52.1  1249.1  893.6   328.7\n",
       "7  311111 1964 16.6  90.8 10.6  23.5   52.2  1245.6  890.2   326.8\n",
       "8  311111 1965 16.0  90.8 10.2  22.7   51.8  1283.5  928.1   324.7\n",
       "9  311111 1966 16.1  96.1 10.2  22.6   53.9  1428.8 1049.9   344.8\n",
       "10 311111 1967 16.7 105.0 11.0  23.9   61.3  1544.1 1101.6   410.0\n",
       "50 311111 2007 17.0 792.9 13.1  28.3  553.0 14390.2 6917.4  7523.4\n",
       "51 311111 2008 16.7 809.1 12.8  27.6  561.6 16997.8 7923.0  9077.1\n",
       "52 311111 2009 17.1 882.0 13.0  27.7  620.5 19691.0 9776.6  9893.6\n",
       "53 311119 1958 39.2 170.6 25.9  55.5  101.8  2194.1 1690.9   531.5\n",
       "54 311119 1959 38.9 173.2 25.4  54.9  101.1  2212.1 1705.5   534.8\n",
       "55 311119 1960 38.6 178.0 25.1  54.5  102.5  2210.3 1691.7   537.3\n",
       "56 311119 1961 38.2 183.4 24.8  54.8  105.4  2356.7 1805.9   573.1\n",
       "57 311119 1962 38.5 189.2 24.8  54.1  106.8  2474.4 1917.9   586.4\n",
       "58 311119 1963 37.4 188.4 23.5  51.6  106.7  2628.7 2008.3   654.4\n",
       "59 311119 1964 36.1 190.4 22.9  50.6  107.0  2621.7 2000.8   650.7\n",
       "60 311119 1965 35.1 190.6 21.8  48.9  106.1  2701.3 2086.0   646.3"
      ]
     },
     "metadata": {},
     "output_type": "display_data"
    }
   ],
   "source": [
    "g0 <- read.csv(\"naics5809.csv\")\n",
    "g0[c(1:10, 50:60), 1:10]"
   ]
  },
  {
   "cell_type": "markdown",
   "metadata": {
    "slideshow": {
     "slide_type": "slide"
    }
   },
   "source": [
    "# R package\n",
    "\n",
    "`plm`: panel data"
   ]
  },
  {
   "cell_type": "code",
   "execution_count": 2,
   "metadata": {
    "slideshow": {
     "slide_type": "fragment"
    }
   },
   "outputs": [
    {
     "name": "stderr",
     "output_type": "stream",
     "text": [
      "Loading required package: Formula\n"
     ]
    }
   ],
   "source": [
    "library(plm)\n",
    "g <- pdata.frame( g0, index = c(\"naics\", \"year\") )"
   ]
  },
  {
   "cell_type": "code",
   "execution_count": 3,
   "metadata": {
    "slideshow": {
     "slide_type": "subslide"
    }
   },
   "outputs": [
    {
     "data": {
      "text/plain": [
       "\n",
       "Call:\n",
       "lm(formula = equation, data = g)\n",
       "\n",
       "Residuals:\n",
       "    Min      1Q  Median      3Q     Max \n",
       "-364.61  -17.88   -9.57    6.42  416.23 \n",
       "\n",
       "Coefficients:\n",
       "              Estimate Std. Error t value Pr(>|t|)    \n",
       "(Intercept)  2.430e+01  2.655e-01  91.509  < 2e-16 ***\n",
       "invest      -5.393e-03  8.766e-04  -6.152 7.77e-10 ***\n",
       "cap          4.120e-03  6.341e-05  64.971  < 2e-16 ***\n",
       "---\n",
       "Signif. codes:  0 '***' 0.001 '**' 0.01 '*' 0.05 '.' 0.1 ' ' 1\n",
       "\n",
       "Residual standard error: 37.89 on 24164 degrees of freedom\n",
       "  (429 observations deleted due to missingness)\n",
       "Multiple R-squared:  0.2927,\tAdjusted R-squared:  0.2926 \n",
       "F-statistic:  5000 on 2 and 24164 DF,  p-value: < 2.2e-16\n"
      ]
     },
     "metadata": {},
     "output_type": "display_data"
    }
   ],
   "source": [
    "# the regression equation\n",
    "equation <- emp~invest+cap\n",
    "\n",
    "# Nothing prevents from running an OLS. \n",
    "g.ols <- lm(equation, data=g)\n",
    "summary(g.ols)"
   ]
  },
  {
   "cell_type": "code",
   "execution_count": 4,
   "metadata": {
    "slideshow": {
     "slide_type": "subslide"
    }
   },
   "outputs": [
    {
     "data": {
      "text/plain": [
       "Pooling Model\n",
       "\n",
       "Call:\n",
       "plm(formula = equation, data = g, model = \"pooling\")\n",
       "\n",
       "Unbalanced Panel: n = 473, T = 13-52, N = 24167\n",
       "\n",
       "Residuals:\n",
       "     Min.   1st Qu.    Median   3rd Qu.      Max. \n",
       "-364.6116  -17.8760   -9.5675    6.4165  416.2347 \n",
       "\n",
       "Coefficients:\n",
       "               Estimate  Std. Error t-value  Pr(>|t|)    \n",
       "(Intercept)  2.4296e+01  2.6550e-01  91.509 < 2.2e-16 ***\n",
       "invest      -5.3929e-03  8.7660e-04  -6.152 7.771e-10 ***\n",
       "cap          4.1200e-03  6.3413e-05  64.971 < 2.2e-16 ***\n",
       "---\n",
       "Signif. codes:  0 '***' 0.001 '**' 0.01 '*' 0.05 '.' 0.1 ' ' 1\n",
       "\n",
       "Total Sum of Squares:    49051000\n",
       "Residual Sum of Squares: 34694000\n",
       "R-Squared:      0.2927\n",
       "Adj. R-Squared: 0.29264\n",
       "F-statistic: 4999.87 on 2 and 24164 DF, p-value: < 2.22e-16"
      ]
     },
     "metadata": {},
     "output_type": "display_data"
    }
   ],
   "source": [
    "# The OLS coefficient estimates are exactly the same as the pooled OLS. \n",
    "# The only difference in the summary is that the later shows the panel structure \n",
    "# of the data.\n",
    "\n",
    "g.pool <- plm(equation,data=g,model=\"pooling\")\n",
    "summary(g.pool)"
   ]
  },
  {
   "cell_type": "markdown",
   "metadata": {
    "slideshow": {
     "slide_type": "slide"
    }
   },
   "source": [
    "# Panel Data Models\n",
    "\n",
    "* Fixed effect\n",
    "* Random effect"
   ]
  },
  {
   "cell_type": "markdown",
   "metadata": {
    "slideshow": {
     "slide_type": "fragment"
    }
   },
   "source": [
    "* Estimation: OLS "
   ]
  },
  {
   "cell_type": "markdown",
   "metadata": {
    "slideshow": {
     "slide_type": "slide"
    }
   },
   "source": [
    "# Fixed Effect\n",
    "\n",
    "* FE model allows $\\alpha_{i}$ and $x_{it}$ to be arbitrarily\n",
    "correlated. \n",
    "* Need to eliminate $\\alpha_{i},i=1,\\ldots,n$ to restore consistency. \n"
   ]
  },
  {
   "cell_type": "markdown",
   "metadata": {
    "slideshow": {
     "slide_type": "slide"
    }
   },
   "source": [
    "Averaging the $T$ equations of for the\n",
    "same $i$, \n",
    "$$\\overline{y}_{i}=\\beta_{1}+\\overline{x}_{i}\\beta_{2}+\\bar{u}_{it}=\\beta_{1}+\\overline{x}_{i}\\beta_{2}+\\alpha_{i}+\\bar{\\epsilon}_{it}.\\label{eq:group_mean}$$\n",
    "where $\\overline{y}_{i}=\\frac{1}{T}\\sum_{t=1}^{T}y_{it}$. "
   ]
  },
  {
   "cell_type": "markdown",
   "metadata": {
    "slideshow": {
     "slide_type": "fragment"
    }
   },
   "source": [
    "Subtracting\n",
    "the average, \n",
    "$$\\tilde{y}_{it}=\\tilde{x}_{it}\\beta_{2}+\\tilde{\\epsilon}_{it}$$\n",
    "where $\\tilde{y}_{it}=y_{it}-\\overline{y}_{i}$. "
   ]
  },
  {
   "cell_type": "markdown",
   "metadata": {
    "slideshow": {
     "slide_type": "slide"
    }
   },
   "source": [
    "Run OLS with the\n",
    "demeaned data, and obtain the within estimator\n",
    "$$\\widehat{\\beta}_{2}^{FE}=\\left(\\tilde{X}'\\tilde{X}\\right)^{-1}\\tilde{X}'\\tilde{y},$$\n",
    "where $\\tilde{y}=\\left(y_{it}\\right)_{i,t}$ stacks all the $nT$\n",
    "observations into a vector, and similarly defined is $\\tilde{X}$ as an\n",
    "$nT\\times K$ matrix, where $K$ is the dimension of $\\beta_{2}$."
   ]
  },
  {
   "cell_type": "markdown",
   "metadata": {
    "slideshow": {
     "slide_type": "slide"
    }
   },
   "source": [
    "# Assumptions\n",
    "\n",
    "\n",
    "**Assumption FE.1**\n",
    "$E\\left[\\epsilon_{it}|\\alpha_{i},\\mathbf{x}_{i}\\right]=0$ where\n",
    "$\\mathbf{x}_{i}=\\left(x_{i1},\\ldots,x_{iT}\\right)$. (*strict exogeneity*)\n",
    "* The error $\\epsilon_{it}$ is mean\n",
    "independent of the past, present and future explanatory variables."
   ]
  },
  {
   "cell_type": "markdown",
   "metadata": {
    "slideshow": {
     "slide_type": "slide"
    }
   },
   "source": [
    "# Consistency\n",
    "\n",
    "* Asymptotic framework: $n\\to\\infty$ while $T$ stays fixed. \n",
    "* appropriate for panel datasets with many individuals but only a few time periods.\n",
    "\n",
    "**Proposition** If FE.1 is satisfied, then $\\widehat{\\beta}_{2}^{FE}$ is consistent."
   ]
  },
  {
   "cell_type": "markdown",
   "metadata": {
    "slideshow": {
     "slide_type": "slide"
    }
   },
   "source": [
    "# Asymptotic Normality\n",
    "\n",
    "**Assumption FE.2**\n",
    "$\\mathrm{var}\\left(\\epsilon_{i}|\\alpha_{i},\\mathbf{x}_{i}\\right)=\\sigma_{\\epsilon}^{2}I_{T}$.\n",
    "\n",
    "* Under FE.1 and FE.2,\n",
    "$\\widehat{\\sigma}_{\\epsilon}^{2}=\\frac{1}{n\\left(T-1\\right)}\\sum_{i=1}^{n}\\sum_{t=1}^{T}\\widehat{\\tilde{\\epsilon}}_{it}^{2}$\n",
    "is a consistent estimator of $\\sigma_{\\epsilon}^{2}$.\n",
    "\n",
    "\n",
    "\n",
    "If FE.1 and FE.2 are satisfied, then\n",
    "$$\\left(\\widehat{\\sigma}_{\\epsilon}^{2}\\left(\\tilde{X}'\\tilde{X}\\right)^{-1}\\right)^{-1/2}\\left(\\widehat{\\beta}_{2}^{FE}-\\beta_{2}^{0}\\right)\\stackrel{d}{\\to} N\\left(0,I_{K}\\right).$$"
   ]
  },
  {
   "cell_type": "markdown",
   "metadata": {
    "slideshow": {
     "slide_type": "slide"
    }
   },
   "source": [
    "# Limitation\n",
    "\n",
    "* FE eliminates all time-invariant explanatory variables, including the intercept.\n",
    "* From FE we cannot obtain the coefficient estimates of these time-invariant variables."
   ]
  },
  {
   "cell_type": "markdown",
   "metadata": {
    "slideshow": {
     "slide_type": "slide"
    }
   },
   "source": [
    "**Data Example** In reality we do not need to compute the estimator or the variance by hand. `R` handles them automatically."
   ]
  },
  {
   "cell_type": "code",
   "execution_count": 5,
   "metadata": {
    "slideshow": {
     "slide_type": "fragment"
    }
   },
   "outputs": [
    {
     "data": {
      "text/plain": [
       "Oneway (individual) effect Within Model\n",
       "\n",
       "Call:\n",
       "plm(formula = equation, data = g, model = \"within\")\n",
       "\n",
       "Unbalanced Panel: n = 473, T = 13-52, N = 24167\n",
       "\n",
       "Residuals:\n",
       "       Min.     1st Qu.      Median     3rd Qu.        Max. \n",
       "-212.735344   -3.948681   -0.020028    3.965494  233.204238 \n",
       "\n",
       "Coefficients:\n",
       "          Estimate  Std. Error t-value  Pr(>|t|)    \n",
       "invest -3.8758e-03  5.5301e-04 -7.0086 2.471e-12 ***\n",
       "cap     2.0277e-03  6.9677e-05 29.1009 < 2.2e-16 ***\n",
       "---\n",
       "Signif. codes:  0 '***' 0.001 '**' 0.01 '*' 0.05 '.' 0.1 ' ' 1\n",
       "\n",
       "Total Sum of Squares:    8420700\n",
       "Residual Sum of Squares: 7953600\n",
       "R-Squared:      0.055468\n",
       "Adj. R-Squared: 0.036571\n",
       "F-statistic: 695.667 on 2 and 23692 DF, p-value: < 2.22e-16"
      ]
     },
     "metadata": {},
     "output_type": "display_data"
    }
   ],
   "source": [
    "g.fe <- plm(equation, data=g, model=\"within\") \n",
    "# statisticians call the FE estimator 'within' estimator as it carries out\n",
    "# a within-group transformation\n",
    "summary(g.fe)"
   ]
  },
  {
   "cell_type": "markdown",
   "metadata": {
    "slideshow": {
     "slide_type": "slide"
    }
   },
   "source": [
    "# Publication Example\n",
    "\n",
    "* Lin, Justin Yifu (1992): [Rural Reforms and Agricultural\n",
    "Growth in China](http://www.jstor.org/stable/2117601), *The American\n",
    "Economic Review*, Vol.82, No.1, pp.34-51.\n",
    "\n",
    "\n",
    "\n",
    "* 改革开放40周年\n",
    "* Chinese agricultural industry witnessed a dramatic growth\n",
    "during 1978-1984. \n",
    "* Was the growth was attributed to the household-responsibility system (HRS) reform? "
   ]
  },
  {
   "cell_type": "markdown",
   "metadata": {
    "slideshow": {
     "slide_type": "subslide"
    }
   },
   "source": [
    "* Lin (1992): panel data of 28 mainland provinces from 1970 to 1987. \n",
    "* He estimates the following FE model by OLS.\n",
    "\n",
    "$$\n",
    "\\begin{aligned}\n",
    "ln Y_{it} & = \\alpha_1 + \\alpha_2\n",
    "+ \\ln(\\mathrm{Land}_{it}) + \\alpha_3 \\ln (\\mathrm{Labor}_{it}) \\\\\n",
    "    & +\n",
    "\\alpha_4 \\ln (\\mathrm{Capital}_{it}) + \\alpha_5 \\ln\n",
    "(\\mathrm{Fert}_{it} ) + \\alpha_6 \\mathrm{HRS}_{it} \\\\ \n",
    " & +\n",
    "\\alpha_7 \\mbox{MP}_{t-1} \n",
    "+ \\alpha_8 \\mathrm{GP}_t + \\alpha_9\n",
    "\\mbox{NGCA}_{it} + \\alpha_{10} \\mbox{MCI}_{it} + \\alpha_{11}\n",
    "T_t + \\sum_{j=12}^{39} \\alpha_{j} D_j +\n",
    "\\epsilon_{it}.\n",
    "\\end{aligned}$$\n",
    "\n",
    "* The empirical findings are robust\n",
    "* The importance of HRS is supported across specifications"
   ]
  },
  {
   "cell_type": "markdown",
   "metadata": {
    "slideshow": {
     "slide_type": "slide"
    }
   },
   "source": [
    "## Random Effect\n",
    "\n",
    "\n",
    "* RE allows time-invariant explanatory variables. \n",
    "* Knife-edge special case $\\mathrm{cov}\\left(\\alpha_{i},x_{it}\\right)=0$. \n",
    "* FE is consistent when $\\alpha_{i}$ and $x_{it}$ are uncorrelated.\n",
    "* OLS is also consistent.\n",
    "* But neither is inefficient."
   ]
  },
  {
   "cell_type": "markdown",
   "metadata": {
    "slideshow": {
     "slide_type": "slide"
    }
   },
   "source": [
    "# Assumptions\n",
    "\n",
    "**Assumption RE.1**\n",
    "$E\\left[\\epsilon_{it}|\\alpha_{i},\\mathbf{x}_{i}\\right]=0$ and\n",
    "$E\\left[\\alpha_{i}|\\mathbf{x}_{i}\\right]=0$.\n",
    "\n",
    "RE.1 obviously implies $\\mathrm{cov}\\left(\\alpha_{i},x_{it}\\right)=0$,\n",
    "so\n",
    "$$S=\\mathrm{var}\\left(u_{i}|\\mathbf{x}_{i}\\right)=\\sigma_{\\alpha}^{2}\\mathbf{1}_{T}\\mathbf{1}_{T}'+\\sigma_{\\epsilon}^{2}I_{T},\\ \\mbox{for all }i=1,\\ldots,n.$$\n",
    "\n",
    "* Ghe covariance matrix is not a scalar multiplication of the\n",
    "identity matrix.\n",
    "* OLS is inefficient."
   ]
  },
  {
   "cell_type": "markdown",
   "metadata": {
    "slideshow": {
     "slide_type": "slide"
    }
   },
   "source": [
    "# Estimation\n",
    "\n",
    "* Rewrite $$y_{it}=w_{it}\\boldsymbol{\\beta}+u_{it}$$ \n",
    "\n",
    "* Had we known $S$, the GLS estimator would be\n",
    "$$\\widehat{\\boldsymbol{\\beta}}^{RE}=\\left(\\sum_{i=1}^{n}\\mathbf{w}_{i}'S^{-1}\\mathbf{w}_{i}\\right)^{-1}\\sum_{i=1}^{n}\\mathbf{w}_{i}'S^{-1}\\mathbf{y}_{i}=\\left(W'\\mathbf{S}^{-1}W\\right)^{-1}W'\\mathbf{S}^{-1}y$$\n",
    "* In practice, software computes FGLS"
   ]
  },
  {
   "cell_type": "code",
   "execution_count": 6,
   "metadata": {
    "slideshow": {
     "slide_type": "slide"
    }
   },
   "outputs": [
    {
     "data": {
      "text/plain": [
       "Oneway (individual) effect Random Effect Model \n",
       "   (Swamy-Arora's transformation)\n",
       "\n",
       "Call:\n",
       "plm(formula = equation, data = g, model = \"random\")\n",
       "\n",
       "Unbalanced Panel: n = 473, T = 13-52, N = 24167\n",
       "\n",
       "Effects:\n",
       "                  var std.dev share\n",
       "idiosyncratic  335.71   18.32  0.24\n",
       "individual    1061.41   32.58  0.76\n",
       "theta:\n",
       "   Min. 1st Qu.  Median    Mean 3rd Qu.    Max. \n",
       " 0.8459  0.9222  0.9222  0.9218  0.9222  0.9222 \n",
       "\n",
       "Residuals:\n",
       "    Min.  1st Qu.   Median     Mean  3rd Qu.     Max. \n",
       "-191.390   -4.824   -1.260   -0.007    3.535  242.581 \n",
       "\n",
       "Coefficients:\n",
       "               Estimate  Std. Error t-value  Pr(>|t|)    \n",
       "(Intercept)  2.9718e+01  1.5116e+00 19.6597 < 2.2e-16 ***\n",
       "invest      -4.2847e-03  5.5075e-04 -7.7798 7.553e-15 ***\n",
       "cap          2.1374e-03  6.8567e-05 31.1729 < 2.2e-16 ***\n",
       "---\n",
       "Signif. codes:  0 '***' 0.001 '**' 0.01 '*' 0.05 '.' 0.1 ' ' 1\n",
       "\n",
       "Total Sum of Squares:    8671600\n",
       "Residual Sum of Squares: 8141400\n",
       "R-Squared:      0.061142\n",
       "Adj. R-Squared: 0.061064\n",
       "F-statistic: 786.825 on 2 and 24164 DF, p-value: < 2.22e-16"
      ]
     },
     "metadata": {},
     "output_type": "display_data"
    }
   ],
   "source": [
    "g.re <- plm(equation, data=g, model=\"random\")\n",
    "summary(g.re)"
   ]
  },
  {
   "cell_type": "code",
   "execution_count": 7,
   "metadata": {
    "slideshow": {
     "slide_type": "slide"
    }
   },
   "outputs": [
    {
     "data": {
      "text/plain": [
       "\n",
       "\tHausman Test\n",
       "\n",
       "data:  equation\n",
       "chisq = 65.835, df = 2, p-value = 5.059e-15\n",
       "alternative hypothesis: one model is inconsistent\n"
      ]
     },
     "metadata": {},
     "output_type": "display_data"
    }
   ],
   "source": [
    "# Which model is preferred? \n",
    "# The Hausman test favors the fixed-effect model.\n",
    "phtest(g.re, g.fe)"
   ]
  },
  {
   "cell_type": "markdown",
   "metadata": {
    "slideshow": {
     "slide_type": "slide"
    }
   },
   "source": [
    "# Dynamic Panel Model\n",
    "\n",
    "* Example: Stock price is influence by the fundamental indicators in the quarterly finance report, but also by yesterday's price."
   ]
  },
  {
   "cell_type": "markdown",
   "metadata": {
    "slideshow": {
     "slide_type": "subslide"
    }
   },
   "source": [
    "$$y_{it}=\\beta_{1}+\\beta_{2}y_{it-1}+\\beta_{3}x_{it}+\\alpha_{i}+\\epsilon_{it}$$\n",
    "\n",
    "\n",
    "\n",
    "First-difference (FD): for periods $t$ and\n",
    "$t-1$,  \n",
    "$$\n",
    "\\left(y_{it}-y_{it-1}\\right)=\\beta_{2}\\left(y_{it-1}-y_{it-2}\\right)+\\beta_{3}\\left(x_{it}-x_{it-1}\\right)+\\left(\\epsilon_{it}-\\epsilon_{it-1}\\right).\n",
    "$$\n",
    "\n",
    "For simplicity, assume  $E\\left[\\left(x_{it}-x_{it-1}\\right)\\left(\\epsilon_{it}-\\epsilon_{it-1}\\right)\\right]=0$,\n",
    "but \n",
    "$$\n",
    "E\\left[\\left(y_{it-1}-y_{it-2}\\right)\\left(\\epsilon_{it}-\\epsilon_{it-1}\\right)\\right]\n",
    "=-E\\left[y_{it-1}\\epsilon_{it-1}\\right]=-E\\left[\\epsilon_{it-1}^{2}\\right]\\neq0.\n",
    "$$ \n"
   ]
  },
  {
   "cell_type": "code",
   "execution_count": null,
   "metadata": {},
   "outputs": [],
   "source": []
  }
 ],
 "metadata": {
  "celltoolbar": "Slideshow",
  "kernel_info": {
   "name": "ir"
  },
  "kernelspec": {
   "display_name": "R",
   "language": "R",
   "name": "ir"
  },
  "language_info": {
   "codemirror_mode": "r",
   "file_extension": ".r",
   "mimetype": "text/x-r-source",
   "name": "R",
   "pygments_lexer": "r",
   "version": "3.5.0"
  },
  "nteract": {
   "version": "0.11.6"
  }
 },
 "nbformat": 4,
 "nbformat_minor": 2
}
